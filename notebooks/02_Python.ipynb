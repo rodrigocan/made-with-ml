{
  "nbformat": 4,
  "nbformat_minor": 0,
  "metadata": {
    "colab": {
      "provenance": [],
      "toc_visible": true,
      "include_colab_link": true
    },
    "kernelspec": {
      "name": "python3",
      "display_name": "Python 3"
    }
  },
  "cells": [
    {
      "cell_type": "markdown",
      "metadata": {
        "id": "view-in-github",
        "colab_type": "text"
      },
      "source": [
        "<a href=\"https://colab.research.google.com/github/rodrigocan/made-with-ml/blob/main/notebooks/02_Python.ipynb\" target=\"_parent\"><img src=\"https://colab.research.google.com/assets/colab-badge.svg\" alt=\"Open In Colab\"/></a>"
      ]
    },
    {
      "cell_type": "markdown",
      "metadata": {
        "id": "D-ndUm1CvVEZ"
      },
      "source": [
        "<div align=\"center\">\n",
        "<h1><img width=\"30\" src=\"https://madewithml.com/static/images/rounded_logo.png\">&nbsp;<a href=\"https://madewithml.com/\">Made With ML</a></h1>\n",
        "Applied ML · MLOps · Production\n",
        "<br>\n",
        "Join 30K+ developers in learning how to responsibly <a href=\"https://madewithml.com/about/\">deliver value</a> with ML.\n",
        "    <br>\n",
        "</div>\n",
        "\n",
        "<br>\n",
        "\n",
        "<div align=\"center\">\n",
        "    <a target=\"_blank\" href=\"https://madewithml.com\"><img src=\"https://img.shields.io/badge/Subscribe-30K-brightgreen\"></a>&nbsp;\n",
        "    <a target=\"_blank\" href=\"https://github.com/GokuMohandas/Made-With-ML\"><img src=\"https://img.shields.io/github/stars/GokuMohandas/Made-With-ML.svg?style=social&label=Star\"></a>&nbsp;\n",
        "    <a target=\"_blank\" href=\"https://www.linkedin.com/in/goku\"><img src=\"https://img.shields.io/badge/style--5eba00.svg?label=LinkedIn&logo=linkedin&style=social\"></a>&nbsp;\n",
        "    <a target=\"_blank\" href=\"https://twitter.com/GokuMohandas\"><img src=\"https://img.shields.io/twitter/follow/GokuMohandas.svg?label=Follow&style=social\"></a>\n",
        "    <br>\n",
        "    🔥&nbsp; Among the <a href=\"https://github.com/topics/deep-learning\" target=\"_blank\">top ML</a> repositories on GitHub\n",
        "</div>\n",
        "\n",
        "<br>\n",
        "<hr>"
      ]
    },
    {
      "cell_type": "markdown",
      "metadata": {
        "id": "pY8iWjayaC22"
      },
      "source": [
        "# Python\n",
        "\n",
        "Nessa aula, nós vamos aprender o básico de programação em Python."
      ]
    },
    {
      "cell_type": "markdown",
      "metadata": {
        "id": "gN-UI0ZUd0Xt"
      },
      "source": [
        "<div align=\"left\">\n",
        "<a target=\"_blank\" href=\"https://madewithml.com/courses/foundations/python/\"><img src=\"https://img.shields.io/badge/📖 Read-blog post-9cf\"></a>&nbsp;\n",
        "<a href=\"https://github.com/GokuMohandas/Made-With-ML/blob/main/notebooks/02_Python.ipynb\" role=\"button\"><img src=\"https://img.shields.io/static/v1?label=&amp;message=View%20On%20GitHub&amp;color=586069&amp;logo=github&amp;labelColor=2f363d\"></a>&nbsp;\n",
        "</div>"
      ]
    },
    {
      "cell_type": "markdown",
      "metadata": {
        "id": "VoMq0eFRvugb"
      },
      "source": [
        "#  Variáveis"
      ]
    },
    {
      "cell_type": "markdown",
      "metadata": {
        "id": "qWro5T5qTJJL"
      },
      "source": [
        "Variáveis são contêineres que guardam dados. São definidas por um nome e por um valor.\n",
        "\n",
        "<div align=\"left\">\n",
        "<img src=\"https://madewithml.com/static/images/foundations/python/variables.png\" width=\"220\">\n",
        "</div>"
      ]
    },
    {
      "cell_type": "code",
      "metadata": {
        "id": "0-dXQiLlTIgz",
        "colab": {
          "base_uri": "https://localhost:8080/"
        },
        "outputId": "5aba0614-96fd-4c8b-9d07-468d8f6dbb7c"
      },
      "source": [
        "# Variável do tipo inteiro\n",
        "x = 5\n",
        "print (x)\n",
        "print (type(x))\n"
      ],
      "execution_count": null,
      "outputs": [
        {
          "output_type": "stream",
          "name": "stdout",
          "text": [
            "5\n",
            "<class 'int'>\n"
          ]
        }
      ]
    },
    {
      "cell_type": "markdown",
      "metadata": {
        "id": "LDAdgPSCyMbN"
      },
      "source": [
        "Podemos modificar o valor de uma variável simplesmente atribuindo um novo valor para ela."
      ]
    },
    {
      "cell_type": "code",
      "metadata": {
        "id": "5Ym0owFxTkjo",
        "colab": {
          "base_uri": "https://localhost:8080/"
        },
        "outputId": "12677461-6a8a-4e8a-be59-dcd1d435c090"
      },
      "source": [
        "# Variável do tipo string\n",
        "x = \"olá\"\n",
        "print (x)\n",
        "print (type(x))"
      ],
      "execution_count": null,
      "outputs": [
        {
          "output_type": "stream",
          "name": "stdout",
          "text": [
            "olá\n",
            "<class 'str'>\n"
          ]
        }
      ]
    },
    {
      "cell_type": "markdown",
      "metadata": {
        "id": "Lsq_c_AhEzZN"
      },
      "source": [
        "Existem diversos tipos de variáveis: inteiros, floats, strings, booleanos etc."
      ]
    },
    {
      "cell_type": "code",
      "metadata": {
        "id": "m4kAmbD9EzHz",
        "colab": {
          "base_uri": "https://localhost:8080/"
        },
        "outputId": "6e873bd5-c21a-4522-e247-03e5a9dc0b6e"
      },
      "source": [
        "# Variável do tipo int\n",
        "x = 5\n",
        "print (x, type(x))"
      ],
      "execution_count": null,
      "outputs": [
        {
          "output_type": "stream",
          "name": "stdout",
          "text": [
            "5 <class 'int'>\n"
          ]
        }
      ]
    },
    {
      "cell_type": "code",
      "metadata": {
        "id": "gb9BzIoOEy6A",
        "colab": {
          "base_uri": "https://localhost:8080/"
        },
        "outputId": "eb28edb0-3c97-4ebc-b46d-9ebc63cdb457"
      },
      "source": [
        "# Variável do tipo float\n",
        "x = 5.0\n",
        "print (x, type(x))"
      ],
      "execution_count": null,
      "outputs": [
        {
          "output_type": "stream",
          "name": "stdout",
          "text": [
            "5.0 <class 'float'>\n"
          ]
        }
      ]
    },
    {
      "cell_type": "code",
      "metadata": {
        "id": "RkqP-eraEytN",
        "colab": {
          "base_uri": "https://localhost:8080/"
        },
        "outputId": "9b34ae87-942c-4432-a7f3-5f765dce4779"
      },
      "source": [
        "# Variável do tipo string\n",
        "x = \"5\" \n",
        "print (x, type(x))"
      ],
      "execution_count": null,
      "outputs": [
        {
          "output_type": "stream",
          "name": "stdout",
          "text": [
            "5 <class 'str'>\n"
          ]
        }
      ]
    },
    {
      "cell_type": "code",
      "metadata": {
        "id": "ws4HSsJpEyfL",
        "colab": {
          "base_uri": "https://localhost:8080/"
        },
        "outputId": "66c2b215-f378-4298-ff2d-982caabd92de"
      },
      "source": [
        "# Variável do tipo booleano\n",
        "x = True\n",
        "print (x, type(x))"
      ],
      "execution_count": null,
      "outputs": [
        {
          "output_type": "stream",
          "name": "stdout",
          "text": [
            "True <class 'bool'>\n"
          ]
        }
      ]
    },
    {
      "cell_type": "markdown",
      "metadata": {
        "id": "EWOmrbiDybhF"
      },
      "source": [
        "Podemos fazer operações com as variáveis."
      ]
    },
    {
      "cell_type": "code",
      "metadata": {
        "id": "1a4ZhMV1T1-0",
        "colab": {
          "base_uri": "https://localhost:8080/"
        },
        "outputId": "9dd24f23-f761-4803-d703-465a6158dfbc"
      },
      "source": [
        "# Variáveis podem ser usadas em conjunto\n",
        "a = 1\n",
        "b = 2\n",
        "c = a + b\n",
        "print (c)"
      ],
      "execution_count": null,
      "outputs": [
        {
          "output_type": "stream",
          "name": "stdout",
          "text": [
            "3\n"
          ]
        }
      ]
    },
    {
      "cell_type": "markdown",
      "metadata": {
        "id": "6HPtavfdU8Ut"
      },
      "source": [
        "Devemos sempre saber com que tipos de variáveis estamos lidando para podermos fazer as operações corretas com elas. Aqui está um erro comum que pode acontecer se estivermos usando o tipo de variável errado."
      ]
    },
    {
      "cell_type": "code",
      "metadata": {
        "id": "8pr1-i7IVD-h",
        "colab": {
          "base_uri": "https://localhost:8080/"
        },
        "outputId": "514ff512-298e-410a-9ad4-eb49f07b264e"
      },
      "source": [
        "# Variáveis do tipo inteiro\n",
        "a = 5\n",
        "b = 3\n",
        "print (a + b)"
      ],
      "execution_count": null,
      "outputs": [
        {
          "output_type": "stream",
          "name": "stdout",
          "text": [
            "8\n"
          ]
        }
      ]
    },
    {
      "cell_type": "code",
      "metadata": {
        "id": "A9u0Mtke5xkk",
        "colab": {
          "base_uri": "https://localhost:8080/"
        },
        "outputId": "0c17f8a9-fa16-4808-b3d3-0e32ef0e41c2"
      },
      "source": [
        "# Variáveis do tipo string\n",
        "a = \"5\"\n",
        "b = \"3\"\n",
        "print (a + b)"
      ],
      "execution_count": null,
      "outputs": [
        {
          "output_type": "stream",
          "name": "stdout",
          "text": [
            "53\n"
          ]
        }
      ]
    },
    {
      "cell_type": "markdown",
      "metadata": {
        "id": "q4R_UF6PVw4V"
      },
      "source": [
        "#  Listas"
      ]
    },
    {
      "cell_type": "markdown",
      "metadata": {
        "id": "LvGsQBj4VjMl"
      },
      "source": [
        "As listas são uma coleção ordenada e mutável (alterável) de valores que são *separados por vírgulas* e colocados entre *colchetes*. Uma lista pode ser composta por muitos tipos diferentes de variáveis (abaixo está uma lista composta de um número inteiro, uma string e um ponto flutuante)."
      ]
    },
    {
      "cell_type": "code",
      "metadata": {
        "id": "9iPESkq9VvlX",
        "colab": {
          "base_uri": "https://localhost:8080/"
        },
        "outputId": "5685cbdb-6316-4df9-de5c-877248498217"
      },
      "source": [
        "# Criando uma lista\n",
        "x = [3, \"olá\", 1.2]\n",
        "print (x)"
      ],
      "execution_count": null,
      "outputs": [
        {
          "output_type": "stream",
          "name": "stdout",
          "text": [
            "[3, 'olá', 1.2]\n"
          ]
        }
      ]
    },
    {
      "cell_type": "code",
      "metadata": {
        "id": "esDwOfutKtBf",
        "colab": {
          "base_uri": "https://localhost:8080/"
        },
        "outputId": "46597973-6020-4ed5-8185-8cca47bebba6"
      },
      "source": [
        "# Comprimento de uma lista\n",
        "len(x)"
      ],
      "execution_count": null,
      "outputs": [
        {
          "output_type": "execute_result",
          "data": {
            "text/plain": [
              "3"
            ]
          },
          "metadata": {},
          "execution_count": 16
        }
      ]
    },
    {
      "cell_type": "markdown",
      "metadata": {
        "id": "0xC6WvuwbGDg"
      },
      "source": [
        "Você pode adicionar elementos a uma lista usando a função **append**."
      ]
    },
    {
      "cell_type": "code",
      "metadata": {
        "id": "7lbajc-zV515",
        "colab": {
          "base_uri": "https://localhost:8080/"
        },
        "outputId": "5ed59174-0e0f-4dc2-9ee1-83e16644fac8"
      },
      "source": [
        "# Adicionando elemento a uma lista\n",
        "x.append(7)\n",
        "print (x)\n",
        "print (len(x))"
      ],
      "execution_count": null,
      "outputs": [
        {
          "output_type": "stream",
          "name": "stdout",
          "text": [
            "[3, 'olá', 1.2, 7]\n",
            "4\n"
          ]
        }
      ]
    },
    {
      "cell_type": "code",
      "metadata": {
        "id": "TjVjmiSIK1YA",
        "colab": {
          "base_uri": "https://localhost:8080/"
        },
        "outputId": "18667a03-bac8-40eb-ca86-9b5e3743ce38"
      },
      "source": [
        "# Substituindo itens em uma lista\n",
        "x[1] = \"adeus\"\n",
        "print (x)"
      ],
      "execution_count": null,
      "outputs": [
        {
          "output_type": "stream",
          "name": "stdout",
          "text": [
            "[3, 'adeus', 1.2, 7]\n"
          ]
        }
      ]
    },
    {
      "cell_type": "code",
      "metadata": {
        "id": "tNLaysG6K6E9",
        "colab": {
          "base_uri": "https://localhost:8080/"
        },
        "outputId": "70686b20-6220-41d5-eae6-9ea725ea3e73"
      },
      "source": [
        "# Operações\n",
        "y = [2.4, \"mundo\"]\n",
        "z = x + y\n",
        "print (z)"
      ],
      "execution_count": null,
      "outputs": [
        {
          "output_type": "stream",
          "name": "stdout",
          "text": [
            "[3, 'adeus', 1.2, 7, 2.4, 'mundo']\n"
          ]
        }
      ]
    },
    {
      "cell_type": "markdown",
      "metadata": {
        "id": "ddpIO6LLVzh0"
      },
      "source": [
        "# Tuplas"
      ]
    },
    {
      "cell_type": "markdown",
      "metadata": {
        "id": "CAZblq7oXY3s"
      },
      "source": [
        "Tuplas são coleções ordenadas e imutáveis (inalteráveis). São utilizadas para armazenar valores que nunca serão alterados."
      ]
    },
    {
      "cell_type": "code",
      "metadata": {
        "id": "G95lu8xWXY90",
        "colab": {
          "base_uri": "https://localhost:8080/"
        },
        "outputId": "df0b2e2d-75cf-457f-d3a2-8d15156a8224"
      },
      "source": [
        "# Criando uma tupla\n",
        "x = (3.0, \"olá\") # tuplas começam e terminam com ()\n",
        "print (x)"
      ],
      "execution_count": null,
      "outputs": [
        {
          "output_type": "stream",
          "name": "stdout",
          "text": [
            "(3.0, 'olá')\n"
          ]
        }
      ]
    },
    {
      "cell_type": "code",
      "metadata": {
        "id": "kq23Bej1acAP",
        "colab": {
          "base_uri": "https://localhost:8080/"
        },
        "outputId": "ccfddfd6-7cb3-4211-de3a-112beacde16c"
      },
      "source": [
        "# Adicionando valores a uma tupla\n",
        "x = x + (5.6, 4)\n",
        "print (x)"
      ],
      "execution_count": null,
      "outputs": [
        {
          "output_type": "stream",
          "name": "stdout",
          "text": [
            "(3.0, 'olá', 5.6, 4)\n"
          ]
        }
      ]
    },
    {
      "cell_type": "code",
      "metadata": {
        "id": "-o-tW98FLffc",
        "colab": {
          "base_uri": "https://localhost:8080/",
          "height": 183
        },
        "outputId": "5cca635e-c72f-4b5d-f600-6f67c5557525"
      },
      "source": [
        "# Tente mudar o valor de uma tupla (não vai funcionar e retornará um erro)\n",
        "x[0] = 1.2"
      ],
      "execution_count": null,
      "outputs": [
        {
          "output_type": "error",
          "ename": "TypeError",
          "evalue": "ignored",
          "traceback": [
            "\u001b[0;31m---------------------------------------------------------------------------\u001b[0m",
            "\u001b[0;31mTypeError\u001b[0m                                 Traceback (most recent call last)",
            "\u001b[0;32m<ipython-input-23-a6cc63ca7ecd>\u001b[0m in \u001b[0;36m<module>\u001b[0;34m\u001b[0m\n\u001b[1;32m      1\u001b[0m \u001b[0;31m# Tente mudar o valor de uma tupla (não vai funcionar e retornará um erro)\u001b[0m\u001b[0;34m\u001b[0m\u001b[0;34m\u001b[0m\u001b[0;34m\u001b[0m\u001b[0m\n\u001b[0;32m----> 2\u001b[0;31m \u001b[0mx\u001b[0m\u001b[0;34m[\u001b[0m\u001b[0;36m0\u001b[0m\u001b[0;34m]\u001b[0m \u001b[0;34m=\u001b[0m \u001b[0;36m1.2\u001b[0m\u001b[0;34m\u001b[0m\u001b[0;34m\u001b[0m\u001b[0m\n\u001b[0m",
            "\u001b[0;31mTypeError\u001b[0m: 'tuple' object does not support item assignment"
          ]
        }
      ]
    },
    {
      "cell_type": "markdown",
      "metadata": {
        "id": "FWFfVUjmfOoS"
      },
      "source": [
        "# Conjuntos"
      ]
    },
    {
      "cell_type": "markdown",
      "metadata": {
        "id": "hqRA6UHufQnV"
      },
      "source": [
        "Conjuntos são coleções não ordenadas e mutáveis. No entanto, cada item em um conjunto deve ser exclusivo."
      ]
    },
    {
      "cell_type": "code",
      "metadata": {
        "colab": {
          "base_uri": "https://localhost:8080/"
        },
        "id": "ZOtPxlMzfQEL",
        "outputId": "441477a1-13dc-47f0-c79a-27befef1c4f4"
      },
      "source": [
        "# Conjuntos\n",
        "text = \"Aprenda ML com Made With ML\"\n",
        "print (set(text))\n",
        "print (set(text.split(\" \")))"
      ],
      "execution_count": null,
      "outputs": [
        {
          "output_type": "stream",
          "name": "stdout",
          "text": [
            "{'n', 'e', 'L', 'p', 'd', ' ', 'c', 'i', 'm', 't', 'h', 'r', 'a', 'o', 'W', 'M', 'A'}\n",
            "{'Made', 'With', 'Aprenda', 'ML', 'com'}\n"
          ]
        }
      ]
    },
    {
      "cell_type": "markdown",
      "metadata": {
        "id": "M7mQpE7dtpX6"
      },
      "source": [
        "# *Indexing* e *Slicing*"
      ]
    },
    {
      "cell_type": "markdown",
      "metadata": {
        "id": "wJqJM2Q13TwE"
      },
      "source": [
        "*Indexing* e *slicing* nos permitem recuperar valores específicos. Observe que os índices podem ser positivos (a partir de 0) ou negativos (-1 e menor, onde -1 é o último item).\n",
        "\n",
        "<div align=\"left\">\n",
        "<img src=\"https://madewithml.com/static/images/foundations/python/indexing.png\" width=\"300\">\n",
        "</div>"
      ]
    },
    {
      "cell_type": "code",
      "metadata": {
        "id": "W0xpIryJWCN9",
        "colab": {
          "base_uri": "https://localhost:8080/"
        },
        "outputId": "1fe69e65-011e-48ca-afab-01f48987bf90"
      },
      "source": [
        "# Indexing\n",
        "x = [3, \"olá\", 1.2]\n",
        "print (\"x[0]: \", x[0])\n",
        "print (\"x[1]: \", x[1])\n",
        "print (\"x[-1]: \", x[-1]) # o último item\n",
        "print (\"x[-2]: \", x[-2]) # o penúltimo item"
      ],
      "execution_count": null,
      "outputs": [
        {
          "output_type": "stream",
          "name": "stdout",
          "text": [
            "x[0]:  3\n",
            "x[1]:  olá\n",
            "x[-1]:  1.2\n",
            "x[-2]:  olá\n"
          ]
        }
      ]
    },
    {
      "cell_type": "code",
      "metadata": {
        "id": "VSu_HNrnc1WK",
        "colab": {
          "base_uri": "https://localhost:8080/"
        },
        "outputId": "838877db-5cba-42ac-8d90-98212215b73e"
      },
      "source": [
        "# Slicing\n",
        "print (\"x[:]: \", x[:]) # todos os índices\n",
        "print (\"x[1:]: \", x[1:]) # do índice 1 até o final da lista\n",
        "print (\"x[1:2]: \", x[1:2]) # do índice 1 até o índice 2 (não incluindo o índice 2)\n",
        "print (\"x[:-1]: \", x[:-1]) # do índice 0 até o último índice (não incluindo o último índice)"
      ],
      "execution_count": null,
      "outputs": [
        {
          "output_type": "stream",
          "name": "stdout",
          "text": [
            "x[:]:  [3, 'olá', 1.2]\n",
            "x[1:]:  ['olá', 1.2]\n",
            "x[1:2]:  ['olá']\n",
            "x[:-1]:  [3, 'olá']\n"
          ]
        }
      ]
    },
    {
      "cell_type": "code",
      "metadata": {
        "colab": {
          "base_uri": "https://localhost:8080/"
        },
        "id": "l47IYnoLaOGi",
        "outputId": "5be47311-2f22-4525-877e-6be47f816c26"
      },
      "source": [
        "# Indexing além do comprimento\n",
        "print (x[:100])\n",
        "print (len(x[:100]))"
      ],
      "execution_count": null,
      "outputs": [
        {
          "output_type": "stream",
          "name": "stdout",
          "text": [
            "[3, 'olá', 1.2]\n",
            "3\n"
          ]
        }
      ]
    },
    {
      "cell_type": "markdown",
      "metadata": {
        "id": "UdlJHkwZV3Mz"
      },
      "source": [
        "# Dicionários"
      ]
    },
    {
      "cell_type": "markdown",
      "metadata": {
        "id": "azp3AoxYXS26"
      },
      "source": [
        "Os dicionários são uma coleção desordenada, mutável e indexada de pares chave-valor. Você pode recuperar valores com base na chave e um dicionário não pode ter duas chaves iguais.\n",
        "\n",
        "<div align=\"left\">\n",
        "<img src=\"https://madewithml.com/static/images/foundations/python/dictionaries.png\" width=\"320\">\n",
        "</div>"
      ]
    },
    {
      "cell_type": "code",
      "metadata": {
        "id": "pXhNLbzpXXSk",
        "colab": {
          "base_uri": "https://localhost:8080/"
        },
        "outputId": "7b7693fa-7d47-4b9d-ee56-12e4ff54b58c"
      },
      "source": [
        "# Criando um dicionário\n",
        "person = {\"name\": \"Goku\",\n",
        "          \"eye_color\": \"brown\"}\n",
        "print (person)\n",
        "print (person[\"name\"])\n",
        "print (person[\"eye_color\"])"
      ],
      "execution_count": null,
      "outputs": [
        {
          "output_type": "stream",
          "name": "stdout",
          "text": [
            "{'name': 'Goku', 'eye_color': 'brown'}\n",
            "Goku\n",
            "brown\n"
          ]
        }
      ]
    },
    {
      "cell_type": "code",
      "metadata": {
        "id": "1HXtX8vQYjXa",
        "colab": {
          "base_uri": "https://localhost:8080/"
        },
        "outputId": "bb9a149e-b9c7-427b-9bfc-6ae47d5d157b"
      },
      "source": [
        "# Mudando o valor de uma chave\n",
        "person[\"eye_color\"] = \"green\"\n",
        "print (person)"
      ],
      "execution_count": null,
      "outputs": [
        {
          "output_type": "stream",
          "name": "stdout",
          "text": [
            "{'name': 'Goku', 'eye_color': 'green'}\n"
          ]
        }
      ]
    },
    {
      "cell_type": "code",
      "metadata": {
        "id": "qn33iB0MY5dT",
        "colab": {
          "base_uri": "https://localhost:8080/"
        },
        "outputId": "d5b20b1b-0b91-4f38-da46-984cc5c37005"
      },
      "source": [
        "# Adicionando novos pares chave-valor\n",
        "person[\"age\"] = 24\n",
        "print (person)"
      ],
      "execution_count": null,
      "outputs": [
        {
          "output_type": "stream",
          "name": "stdout",
          "text": [
            "{'name': 'Goku', 'eye_color': 'green', 'age': 24}\n"
          ]
        }
      ]
    },
    {
      "cell_type": "code",
      "metadata": {
        "id": "g9EYmzMKa9YV",
        "colab": {
          "base_uri": "https://localhost:8080/"
        },
        "outputId": "8efa29ab-f998-4350-f024-0568e27138c1"
      },
      "source": [
        "# Comprimento de um dicionário\n",
        "print (len(person))"
      ],
      "execution_count": null,
      "outputs": [
        {
          "output_type": "stream",
          "name": "stdout",
          "text": [
            "3\n"
          ]
        }
      ]
    },
    {
      "cell_type": "markdown",
      "metadata": {
        "id": "kuit19F4kDkL"
      },
      "source": [
        "As semelhanças e diferenças das estruturas de dados fundamentais que vimos até agora.\n",
        "\n",
        "|       | Mutável | Ordenada | Indexável | Único |\n",
        "        |-------|---------|---------|-----------|--------|\n",
        "        | Lista  | ✅       | ✅       | ✅         | ❌      |\n",
        "        | Tupla | ❌       | ✅       | ✅         | ❌      |\n",
        "        | Conjunto   | ✅       | ❌       | ❌         | ✅      |\n",
        "        | Dicionário   | ✅        | ❌       | ❌         | ✅ &nbsp;chaves<br>❌ &nbsp;valores      |\n",
        "       "
      ]
    },
    {
      "cell_type": "markdown",
      "metadata": {
        "id": "PNZYdRJTk2wy"
      },
      "source": [
        "Mas é claro que existem alternativas em Python. Por exemplo, mesmo que os dicionários nativos não estejam ordenados, podemos aproveitar a estrutura de dados [OrderedDict](https://docs.python.org/3/library/collections.html) para alterar isso (útil se quisermos iterar pelas chaves em uma determinada ordem, etc.)."
      ]
    },
    {
      "cell_type": "code",
      "metadata": {
        "id": "SmvDsTYakzQC"
      },
      "source": [
        "from collections import OrderedDict"
      ],
      "execution_count": null,
      "outputs": []
    },
    {
      "cell_type": "code",
      "metadata": {
        "colab": {
          "base_uri": "https://localhost:8080/"
        },
        "id": "BMQpaMmpkzTp",
        "outputId": "87e39d62-035f-4295-c0e2-d7e73293f42c"
      },
      "source": [
        "# Dicionário nativo\n",
        "d = {}\n",
        "d[\"a\"] = 2\n",
        "d[\"c\"] = 3\n",
        "d[\"b\"] = 1\n",
        "print (d)"
      ],
      "execution_count": null,
      "outputs": [
        {
          "output_type": "stream",
          "name": "stdout",
          "text": [
            "{'a': 2, 'c': 3, 'b': 1}\n"
          ]
        }
      ]
    },
    {
      "cell_type": "markdown",
      "metadata": {
        "id": "5ZfVq15sl8d1"
      },
      "source": [
        "> Depois do Python 3.7+, os dicionários nativos são ordenados por inserção."
      ]
    },
    {
      "cell_type": "code",
      "metadata": {
        "colab": {
          "base_uri": "https://localhost:8080/"
        },
        "id": "K0mzpuxOmr3g",
        "outputId": "04b3f624-1683-468f-eff9-cc6aa194227c"
      },
      "source": [
        "# Itens do dicionário\n",
        "print (d.items())"
      ],
      "execution_count": null,
      "outputs": [
        {
          "output_type": "stream",
          "name": "stdout",
          "text": [
            "dict_items([('a', 2), ('c', 3), ('b', 1)])\n"
          ]
        }
      ]
    },
    {
      "cell_type": "code",
      "metadata": {
        "colab": {
          "base_uri": "https://localhost:8080/"
        },
        "id": "ahIKOBp0mCmH",
        "outputId": "0122f33b-c54d-4989-dd4f-e2133af74ef0"
      },
      "source": [
        "# Ordenando pelas chaves\n",
        "print (OrderedDict(sorted(d.items())))"
      ],
      "execution_count": null,
      "outputs": [
        {
          "output_type": "stream",
          "name": "stdout",
          "text": [
            "OrderedDict([('a', 2), ('b', 1), ('c', 3)])\n"
          ]
        }
      ]
    },
    {
      "cell_type": "code",
      "metadata": {
        "colab": {
          "base_uri": "https://localhost:8080/"
        },
        "id": "Jox7oy0smCuo",
        "outputId": "860292c5-d973-433a-d119-be72249a7c97"
      },
      "source": [
        "# Ordenando pelos valores\n",
        "print (OrderedDict(sorted(d.items(), key=lambda x: x[1])))"
      ],
      "execution_count": null,
      "outputs": [
        {
          "output_type": "stream",
          "name": "stdout",
          "text": [
            "OrderedDict([('b', 1), ('a', 2), ('c', 3)])\n"
          ]
        }
      ]
    },
    {
      "cell_type": "markdown",
      "metadata": {
        "id": "B-DInx_Xo2vJ"
      },
      "source": [
        "# Estruturas de decisão `if`"
      ]
    },
    {
      "cell_type": "markdown",
      "metadata": {
        "id": "ZG_ICGRGo4tY"
      },
      "source": [
        "Podemos usar estruturas de decisão `if` para fazer algo condicionalmente. As condições são definidas pelas palavras `if`, `elif` (que significa else if) e `else`. Podemos ter quantas declarações `elif` quisermos. O código identado abaixo de cada condição é o código que será executado se a condição for `True`."
      ]
    },
    {
      "cell_type": "code",
      "metadata": {
        "id": "uob9lQuKo4Pg",
        "colab": {
          "base_uri": "https://localhost:8080/"
        },
        "outputId": "7d560448-be4d-41d4-c86e-91d93bf47c9e"
      },
      "source": [
        "# Estruturas de decisão if\n",
        "x = 4\n",
        "if x < 1:\n",
        "    score = \"low\"\n",
        "elif x <= 4: # elif = else if\n",
        "    score = \"medium\"\n",
        "else:\n",
        "    score = \"high\"\n",
        "print (score)"
      ],
      "execution_count": null,
      "outputs": [
        {
          "output_type": "stream",
          "name": "stdout",
          "text": [
            "medium\n"
          ]
        }
      ]
    },
    {
      "cell_type": "code",
      "metadata": {
        "id": "vwsQaZqIpfJ3",
        "colab": {
          "base_uri": "https://localhost:8080/"
        },
        "outputId": "9eb2dd2f-2474-4f9b-a8eb-01c071349280"
      },
      "source": [
        "# Estrutura de decisão if com um booleano\n",
        "x = True\n",
        "if x:\n",
        "    print (\"it worked\")"
      ],
      "execution_count": null,
      "outputs": [
        {
          "output_type": "stream",
          "name": "stdout",
          "text": [
            "it worked\n"
          ]
        }
      ]
    },
    {
      "cell_type": "markdown",
      "metadata": {
        "id": "sJ7NPGEKV6Ik"
      },
      "source": [
        "# Estruturas de repetição"
      ]
    },
    {
      "cell_type": "markdown",
      "metadata": {
        "id": "cRgqRyfITuEC"
      },
      "source": [
        "### Loop `for`"
      ]
    },
    {
      "cell_type": "markdown",
      "metadata": {
        "id": "YRVxhVCkn0vc"
      },
      "source": [
        "Um loop `for` pode iterar sobre uma coleção de valores (listas, tuplas, dicionários, etc.) O código identado é executado para cada item na coleção de valores."
      ]
    },
    {
      "cell_type": "code",
      "metadata": {
        "id": "OB5PtyqAn8mj",
        "colab": {
          "base_uri": "https://localhost:8080/"
        },
        "outputId": "6c665868-7646-4375-ed31-76b26e03e6d1"
      },
      "source": [
        "# Loop for\n",
        "veggies = [\"carrots\", \"broccoli\", \"beans\"]\n",
        "for veggie in veggies:\n",
        "    print (veggie)"
      ],
      "execution_count": null,
      "outputs": [
        {
          "output_type": "stream",
          "name": "stdout",
          "text": [
            "carrots\n",
            "broccoli\n",
            "beans\n"
          ]
        }
      ]
    },
    {
      "cell_type": "markdown",
      "metadata": {
        "id": "PQc56LtEDuX2"
      },
      "source": [
        "Quando o loop encontrar o comando `break`, o loop terminará imediatamente. Se houver mais itens na lista, eles não serão processados."
      ]
    },
    {
      "cell_type": "code",
      "metadata": {
        "id": "6XyhCrFeoGj4",
        "colab": {
          "base_uri": "https://localhost:8080/"
        },
        "outputId": "197d2377-6675-4912-b4a6-b0d5a273abd9"
      },
      "source": [
        "# `break` em um loop for\n",
        "veggies = [\"carrots\", \"broccoli\", \"beans\"]\n",
        "for veggie in veggies:\n",
        "    if veggie == \"broccoli\":\n",
        "        break\n",
        "    print (veggie)"
      ],
      "execution_count": null,
      "outputs": [
        {
          "output_type": "stream",
          "name": "stdout",
          "text": [
            "carrots\n"
          ]
        }
      ]
    },
    {
      "cell_type": "markdown",
      "metadata": {
        "id": "O_0-vSSuEAqU"
      },
      "source": [
        "Quando o loop encontra o comando `continue`, o loop irá pular todas as outras operações apenas para aquele item na lista. Se houver mais itens na lista, o loop continuará normalmente."
      ]
    },
    {
      "cell_type": "code",
      "metadata": {
        "id": "KJvlfYs8QbQZ",
        "colab": {
          "base_uri": "https://localhost:8080/"
        },
        "outputId": "a38d0f02-f5f3-4137-930e-bbf01ba58db3"
      },
      "source": [
        "# `continue` pula para a próxima iteração\n",
        "veggies = [\"carrots\", \"broccoli\", \"beans\"]\n",
        "for veggie in veggies:\n",
        "    if veggie == \"broccoli\":\n",
        "        continue\n",
        "    print (veggie)"
      ],
      "execution_count": null,
      "outputs": [
        {
          "output_type": "stream",
          "name": "stdout",
          "text": [
            "carrots\n",
            "beans\n"
          ]
        }
      ]
    },
    {
      "cell_type": "markdown",
      "metadata": {
        "id": "VAbnASi2TwZ9"
      },
      "source": [
        "### Loop `while`"
      ]
    },
    {
      "cell_type": "markdown",
      "metadata": {
        "id": "nuHAyQdr_jUa"
      },
      "source": [
        "Um loop `while` pode ser executado repetidamente desde que uma condição seja `True`. Podemos usar os comandos `continue` e `break` em loops `while` também."
      ]
    },
    {
      "cell_type": "code",
      "metadata": {
        "id": "5Tf2x4okp3fH",
        "colab": {
          "base_uri": "https://localhost:8080/"
        },
        "outputId": "80d33818-7124-43bb-d960-f848ff2f7b4a"
      },
      "source": [
        "# Loop while\n",
        "x = 3\n",
        "while x > 0:\n",
        "    x -= 1 # o mesmo que x = x - 1\n",
        "    print (x)"
      ],
      "execution_count": null,
      "outputs": [
        {
          "output_type": "stream",
          "name": "stdout",
          "text": [
            "2\n",
            "1\n",
            "0\n"
          ]
        }
      ]
    },
    {
      "cell_type": "markdown",
      "metadata": {
        "id": "4Ku6BGnnoXxW"
      },
      "source": [
        "# *List comprehension*"
      ]
    },
    {
      "cell_type": "markdown",
      "metadata": {
        "id": "VebDucj8oZae"
      },
      "source": [
        "Podemos combinar nossos conhecimento de listas e loops for na *list comprehension*, para criar um código sucinto."
      ]
    },
    {
      "cell_type": "code",
      "metadata": {
        "colab": {
          "base_uri": "https://localhost:8080/"
        },
        "id": "5wZY1Pt_orEu",
        "outputId": "9dc5efa4-d83b-446e-9ac3-db64898e75ba"
      },
      "source": [
        "# Loop for\n",
        "x = [1, 2, 3, 4, 5]\n",
        "y = []\n",
        "for item in x:\n",
        "    if item > 2:\n",
        "        y.append(item)\n",
        "print (y)"
      ],
      "execution_count": null,
      "outputs": [
        {
          "output_type": "stream",
          "name": "stdout",
          "text": [
            "[3, 4, 5]\n"
          ]
        }
      ]
    },
    {
      "cell_type": "markdown",
      "metadata": {
        "id": "DNGRa7ofwoZj"
      },
      "source": [
        "<div align=\"left\">\n",
        "<img src=\"https://madewithml.com/static/images/foundations/python/comprehension.png\" width=\"320\">\n",
        "</div>"
      ]
    },
    {
      "cell_type": "code",
      "metadata": {
        "colab": {
          "base_uri": "https://localhost:8080/"
        },
        "id": "TuRUDixEo1Z4",
        "outputId": "e71076d1-c9c4-4e40-e217-75e8f1d59e39"
      },
      "source": [
        "# List comprehension\n",
        "y = [item for item in x if item > 2]\n",
        "print (y)"
      ],
      "execution_count": null,
      "outputs": [
        {
          "output_type": "stream",
          "name": "stdout",
          "text": [
            "[3, 4, 5]\n"
          ]
        }
      ]
    },
    {
      "cell_type": "code",
      "metadata": {
        "colab": {
          "base_uri": "https://localhost:8080/"
        },
        "id": "V_E59A9Io1cz",
        "outputId": "259804f8-f605-46a3-9122-1d0d4c430424"
      },
      "source": [
        "# Loops for aninhados\n",
        "words = [[\"Am\", \"ate\", \"ATOM\", \"apple\"], [\"bE\", \"boy\", \"ball\", \"bloom\"]]\n",
        "small_words = []\n",
        "for letter_list in words:\n",
        "    for word in letter_list:\n",
        "        if len(word) < 3:\n",
        "            small_words.append(word.lower())\n",
        "print (small_words)"
      ],
      "execution_count": null,
      "outputs": [
        {
          "output_type": "stream",
          "name": "stdout",
          "text": [
            "['am', 'be']\n"
          ]
        }
      ]
    },
    {
      "cell_type": "markdown",
      "metadata": {
        "id": "SHcly_8zwyCW"
      },
      "source": [
        "Para transformar loops for aninhados em uma list comprehension, podemos copiar diretamente as instruções do loop for aninhado de cima para baixo."
      ]
    },
    {
      "cell_type": "code",
      "metadata": {
        "colab": {
          "base_uri": "https://localhost:8080/"
        },
        "id": "YyKnHhiso1fg",
        "outputId": "f554b96f-03e2-4d07-886d-c36f28fd0bbc"
      },
      "source": [
        "# List comprehension\n",
        "small_words = [word.lower() for letter_list in words for word in letter_list if len(word) < 3]\n",
        "print (small_words)"
      ],
      "execution_count": null,
      "outputs": [
        {
          "output_type": "stream",
          "name": "stdout",
          "text": [
            "['am', 'be']\n"
          ]
        }
      ]
    },
    {
      "cell_type": "markdown",
      "metadata": {
        "id": "gJw-EDO9WBL_"
      },
      "source": [
        "# Funções"
      ]
    },
    {
      "cell_type": "markdown",
      "metadata": {
        "id": "hDIOUdWCqBwa"
      },
      "source": [
        "As funções são uma maneira de modularizar trechos de código reutilizáveis. São definidas pela palavra-chave `def` e podem ter os seguintes componentes.\n",
        "\n",
        "<div align=\"left\">\n",
        "<img src=\"https://madewithml.com/static/images/foundations/python/functions.png\" width=\"350\">\n",
        "</div>"
      ]
    },
    {
      "cell_type": "code",
      "metadata": {
        "id": "iin1ZXmMqA0y"
      },
      "source": [
        "# Definindo a função\n",
        "def add_two(x):\n",
        "    \"\"\"Aumenta x em 2.\"\"\" # explica o que a função faz\n",
        "    x += 2\n",
        "    return x"
      ],
      "execution_count": null,
      "outputs": []
    },
    {
      "cell_type": "markdown",
      "metadata": {
        "id": "OIf2dJ8RGj8l"
      },
      "source": [
        "Aqui estão os componentes que podem ser necessários quando queremos usar a função. Precisamos garantir que o nome da função e os parâmetros de entrada correspondam à forma como definimos a função acima.\n",
        "\n",
        "<div align=\"left\">\n",
        "<img src=\"https://madewithml.com/static/images/foundations/python/calling_functions.png\" width=\"350\">\n",
        "</div>"
      ]
    },
    {
      "cell_type": "code",
      "metadata": {
        "id": "4ye1A5FobAUd",
        "colab": {
          "base_uri": "https://localhost:8080/"
        },
        "outputId": "8bdb339e-21a4-4f48-9535-344a302bd2ab"
      },
      "source": [
        "# Usando a função\n",
        "score = 0\n",
        "new_score = add_two(x=score)\n",
        "print (new_score)"
      ],
      "execution_count": null,
      "outputs": [
        {
          "output_type": "stream",
          "name": "stdout",
          "text": [
            "2\n"
          ]
        }
      ]
    },
    {
      "cell_type": "markdown",
      "metadata": {
        "id": "5kpEiTUZqMax"
      },
      "source": [
        "Uma função pode ter tantos parâmetros de entrada e saída quanto quisermos."
      ]
    },
    {
      "cell_type": "code",
      "metadata": {
        "id": "DC6x3DMrqlE3"
      },
      "source": [
        "# Função com múltiplos parâmetros de entrada\n",
        "def join_name(first_name, last_name):\n",
        "    \"\"\"Combina o primeiro com o último nome.\"\"\"\n",
        "    joined_name = first_name + \" \" + last_name\n",
        "    return joined_name"
      ],
      "execution_count": null,
      "outputs": []
    },
    {
      "cell_type": "code",
      "metadata": {
        "id": "ehc8bNoGbBt8",
        "colab": {
          "base_uri": "https://localhost:8080/"
        },
        "outputId": "ad209661-671a-404d-df68-8b8e14e5bd97"
      },
      "source": [
        "# Usando a função\n",
        "first_name = \"Goku\"\n",
        "last_name = \"Mohandas\"\n",
        "joined_name = join_name(first_name=first_name, \n",
        "                        last_name=last_name)\n",
        "print (joined_name)"
      ],
      "execution_count": null,
      "outputs": [
        {
          "output_type": "stream",
          "name": "stdout",
          "text": [
            "Goku Mohandas\n"
          ]
        }
      ]
    },
    {
      "cell_type": "markdown",
      "metadata": {
        "id": "x3_7Qv91Gjua"
      },
      "source": [
        "> É uma boa prática sempre usar argumentos nomeados quando estiver utilizando uma função, para que fique claro o valor de cada parâmetro de entrada. Por outro lado, você verá frequentemente os termos `*args` e `**kwargs` que significam, respectivamente, argumentos não nomeados e argumentos nomeados. Você pode extraí-los quando eles são passados para uma função. O `*` significa que você pode um número não especificado de argumentos para a função."
      ]
    },
    {
      "cell_type": "code",
      "metadata": {
        "id": "XHhaCfFaHSVo"
      },
      "source": [
        "def f(*args, **kwargs):\n",
        "    x = args[0]\n",
        "    y = kwargs.get(\"y\")\n",
        "    print (f\"x: {x}, y: {y}\")"
      ],
      "execution_count": null,
      "outputs": []
    },
    {
      "cell_type": "code",
      "metadata": {
        "id": "ZRB9msy0HmR_",
        "colab": {
          "base_uri": "https://localhost:8080/"
        },
        "outputId": "68a23073-2b79-44a9-9be0-02e8623aa3da"
      },
      "source": [
        "f(5, y=2)"
      ],
      "execution_count": null,
      "outputs": [
        {
          "output_type": "stream",
          "name": "stdout",
          "text": [
            "x: 5, y: 2\n"
          ]
        }
      ]
    },
    {
      "cell_type": "markdown",
      "metadata": {
        "id": "lBLa1n54WEd2"
      },
      "source": [
        "# Classes"
      ]
    },
    {
      "cell_type": "markdown",
      "metadata": {
        "id": "mGua8QnArAZh"
      },
      "source": [
        "Classes são construtores de objetos e são um componente fundamental da programação orientada a objetos em Python. Elas são compostas por um conjunto de funções que definem a classe e suas operações."
      ]
    },
    {
      "cell_type": "markdown",
      "metadata": {
        "id": "CypuBBQyRv8s"
      },
      "source": [
        "### Função `__init__`"
      ]
    },
    {
      "cell_type": "markdown",
      "metadata": {
        "id": "Hrx2bKTXR4E3"
      },
      "source": [
        "A função `__init__` é usada quando uma instância da classe é inicializada."
      ]
    },
    {
      "cell_type": "code",
      "metadata": {
        "id": "DXmPwI1frAAd"
      },
      "source": [
        "# Criando a classe\n",
        "class Pet(object):\n",
        "    \"\"\"Objeto de classe para um animal.\"\"\"\n",
        "    \n",
        "    def __init__(self, species, name):\n",
        "        \"\"\"Inicializa um animal.\"\"\"\n",
        "        self.species = species\n",
        "        self.name = name"
      ],
      "execution_count": null,
      "outputs": []
    },
    {
      "cell_type": "code",
      "metadata": {
        "id": "j5F4XmFQSfVr",
        "colab": {
          "base_uri": "https://localhost:8080/"
        },
        "outputId": "ecebb30e-54aa-4021-d5e1-2a4f76156d05"
      },
      "source": [
        "# Criando uma instância da classe\n",
        "my_dog = Pet(species=\"dog\", \n",
        "             name=\"Scooby\")\n",
        "print (my_dog)\n",
        "print (my_dog.name)"
      ],
      "execution_count": null,
      "outputs": [
        {
          "output_type": "stream",
          "name": "stdout",
          "text": [
            "<__main__.Pet object at 0x7fcdc150a760>\n",
            "Scooby\n"
          ]
        }
      ]
    },
    {
      "cell_type": "markdown",
      "metadata": {
        "id": "6ZVfBXNISUBR"
      },
      "source": [
        "### Função `__str__`"
      ]
    },
    {
      "cell_type": "markdown",
      "metadata": {
        "id": "8q6oiWHQSqOo"
      },
      "source": [
        "O comando `print (my_dog)` imprimiu algo não tão relevante para nós. Vamos consertar isso com a função `__str__`."
      ]
    },
    {
      "cell_type": "code",
      "metadata": {
        "id": "N1_RDVo9Ruhf"
      },
      "source": [
        "# Criando a classe\n",
        "class Pet(object):\n",
        "    \"\"\"Objeto de classe para um animal.\"\"\"\n",
        "  \n",
        "    def __init__(self, species, name):\n",
        "        \"\"\"Inicializa um animal.\"\"\"\n",
        "        self.species = species\n",
        "        self.name = name\n",
        " \n",
        "    def __str__(self):\n",
        "        \"\"\"Define a saída quando for dar um print numa instância de Pet.\"\"\"\n",
        "        return f\"{self.species} named {self.name}\""
      ],
      "execution_count": null,
      "outputs": []
    },
    {
      "cell_type": "code",
      "metadata": {
        "id": "vQeU2yScSkW7",
        "colab": {
          "base_uri": "https://localhost:8080/"
        },
        "outputId": "d97e92e7-5bbd-4454-b78c-2f235d173239"
      },
      "source": [
        "# Creating an instance of a class\n",
        "my_dog = Pet(species=\"dog\", \n",
        "             name=\"Scooby\")\n",
        "print (my_dog)\n",
        "print (my_dog.name)"
      ],
      "execution_count": null,
      "outputs": [
        {
          "output_type": "stream",
          "name": "stdout",
          "text": [
            "dog named Scooby\n",
            "Scooby\n"
          ]
        }
      ]
    },
    {
      "cell_type": "markdown",
      "metadata": {
        "id": "luB-RBMXK_rL"
      },
      "source": [
        "> As classes podem ser personalizadas com funções **mágicas** como `__init__` e `__str__`, para habilitar operações poderosas. Estaremos explorando funções internas adicionais nas próximas aulas (como `__len__`, `__iter__` e `__getitem__`, etc.), mas se você estiver curioso, aqui está um [tutorial](https://rszalski. github.io/magicmethods/) com mais métodos mágicos."
      ]
    },
    {
      "cell_type": "markdown",
      "metadata": {
        "id": "LaTaBd8jSYuy"
      },
      "source": [
        "### Métodos de objeto"
      ]
    },
    {
      "cell_type": "code",
      "metadata": {
        "id": "Vz95DOFjSY3s"
      },
      "source": [
        "# Criando a classe\n",
        "class Pet(object):\n",
        "    \"\"\"Objeto de classe para um animal.\"\"\"\n",
        "  \n",
        "    def __init__(self, species, name):\n",
        "        \"\"\"Inicializa um animal.\"\"\"\n",
        "        self.species = species\n",
        "        self.name = name\n",
        " \n",
        "    def __str__(self):\n",
        "        \"\"\"Define a saída quando for dar um print numa instância de Pet.\"\"\"\n",
        "        return f\"{self.species} named {self.name}\"\n",
        "        \n",
        "    def change_name(self, new_name):\n",
        "        \"\"\"Modifica o nome do animal.\"\"\"\n",
        "        self.name = new_name"
      ],
      "execution_count": null,
      "outputs": []
    },
    {
      "cell_type": "code",
      "metadata": {
        "id": "ezQq_Fhhrqrv",
        "colab": {
          "base_uri": "https://localhost:8080/"
        },
        "outputId": "3b87f8c6-adc7-4a76-811f-aec6593a2f62"
      },
      "source": [
        "# Criando uma instância da classe\n",
        "my_dog = Pet(species=\"dog\", name=\"Scooby\")\n",
        "print (my_dog)\n",
        "print (my_dog.name)"
      ],
      "execution_count": null,
      "outputs": [
        {
          "output_type": "stream",
          "name": "stdout",
          "text": [
            "dog named Scooby\n",
            "Scooby\n"
          ]
        }
      ]
    },
    {
      "cell_type": "code",
      "metadata": {
        "id": "qTinlRj1szc5",
        "colab": {
          "base_uri": "https://localhost:8080/"
        },
        "outputId": "f66ed705-8fa3-457c-c2f7-86573df79718"
      },
      "source": [
        "# Usando a função da classe\n",
        "my_dog.change_name(new_name=\"Scrappy\")\n",
        "print (my_dog)\n",
        "print (my_dog.name)"
      ],
      "execution_count": null,
      "outputs": [
        {
          "output_type": "stream",
          "name": "stdout",
          "text": [
            "dog named Scrappy\n",
            "Scrappy\n"
          ]
        }
      ]
    },
    {
      "cell_type": "markdown",
      "metadata": {
        "id": "wRcOLRK3TlEO"
      },
      "source": [
        "### Herança"
      ]
    },
    {
      "cell_type": "markdown",
      "metadata": {
        "id": "wR1lyaGwWAcR"
      },
      "source": [
        "Observe como herdamos as variáveis inicializadas da classe pai `Pet` como espécie e nome. Também herdamos funções como `change_name()`."
      ]
    },
    {
      "cell_type": "code",
      "metadata": {
        "id": "TaDN2qwBTm7_"
      },
      "source": [
        "class Dog(Pet):\n",
        "    def __init__(self, name, breed):\n",
        "        super().__init__(species=\"dog\", name=name)\n",
        "        self.breed = breed\n",
        "    \n",
        "    def __str__(self):\n",
        "        return f\"A {self.breed} doggo named {self.name}\""
      ],
      "execution_count": null,
      "outputs": []
    },
    {
      "cell_type": "markdown",
      "metadata": {
        "id": "FxXhC_-1dABE"
      },
      "source": [
        "Como você pode ver, tanto nossa classe pai (`Pet`) quanto a classe filha (`Dog`) têm diferentes funções `__str__` definidas, mas compartilham o mesmo nome de função. A classe filha herda tudo das classes pai, mas quando há conflito entre os nomes das funções, as funções da classe filha têm precedência e sobrescrevem as funções da classe pai."
      ]
    },
    {
      "cell_type": "code",
      "metadata": {
        "id": "tKxWHokkT-RI",
        "colab": {
          "base_uri": "https://localhost:8080/"
        },
        "outputId": "c2dc054a-9bb0-4f45-860c-d9a8f9cd6cf4"
      },
      "source": [
        "scooby = Dog(breed=\"Great Dane\", name=\"Scooby\")\n",
        "print (scooby)"
      ],
      "execution_count": null,
      "outputs": [
        {
          "output_type": "stream",
          "name": "stdout",
          "text": [
            "A Great Dane doggo named Scooby\n"
          ]
        }
      ]
    },
    {
      "cell_type": "code",
      "metadata": {
        "id": "YLF_tw5mVFO9",
        "colab": {
          "base_uri": "https://localhost:8080/"
        },
        "outputId": "fbea1907-7752-491d-a0ec-9c4d5d4e4834"
      },
      "source": [
        "scooby.change_name(\"Scooby Doo\")\n",
        "print (scooby)"
      ],
      "execution_count": null,
      "outputs": [
        {
          "output_type": "stream",
          "name": "stdout",
          "text": [
            "A Great Dane doggo named Scooby Doo\n"
          ]
        }
      ]
    },
    {
      "cell_type": "markdown",
      "metadata": {
        "id": "B-XNM5_37842"
      },
      "source": [
        "### Métodos"
      ]
    },
    {
      "cell_type": "markdown",
      "metadata": {
        "id": "pvqSxZn57_2-"
      },
      "source": [
        "Existem dois métodos *decorators* importantes a serem conhecidos quando se trata de classes: `@classmethod` e `@staticmethod`. Aprenderemos sobre *decorators* na próxima seção abaixo, mas esses métodos específicos pertencem a classes, então vamos abordá-los aqui."
      ]
    },
    {
      "cell_type": "code",
      "metadata": {
        "id": "fdoi3R7z8QJw"
      },
      "source": [
        "class Dog(Pet):\n",
        "    def __init__(self, name, breed):\n",
        "        super().__init__(species=\"dog\", name=name)\n",
        "        self.breed = breed\n",
        "    \n",
        "    def __str__(self):\n",
        "        return f\"{self.breed} named {self.name}\"\n",
        "\n",
        "    @classmethod\n",
        "    def from_dict(cls, d):\n",
        "        return cls(name=d[\"name\"], breed=d[\"breed\"])\n",
        "\n",
        "    @staticmethod\n",
        "    def is_cute(breed):\n",
        "        return True  # all animaals are cute!"
      ],
      "execution_count": null,
      "outputs": []
    },
    {
      "cell_type": "markdown",
      "metadata": {
        "id": "6lXOkrAI-IuJ"
      },
      "source": [
        "O *decorator* `@classmethod` nos permite criar instâncias de classe passando a própria classe não instanciada (`cls`). Esta é uma ótima maneira de criar uma instância da classe a partir de um dicionário."
      ]
    },
    {
      "cell_type": "code",
      "metadata": {
        "id": "kPgWwVBu8_ro",
        "colab": {
          "base_uri": "https://localhost:8080/"
        },
        "outputId": "1d21edb2-e13b-4200-976b-ae40a7e6a8ae"
      },
      "source": [
        "# Criando uma instância a partir de um dicionário\n",
        "d = {\"name\": \"Cassie\", \"breed\": \"Border Collie\"}\n",
        "cassie = Dog.from_dict(d=d)\n",
        "print(cassie)"
      ],
      "execution_count": null,
      "outputs": [
        {
          "output_type": "stream",
          "name": "stdout",
          "text": [
            "Border Collie named Cassie\n"
          ]
        }
      ]
    },
    {
      "cell_type": "markdown",
      "metadata": {
        "id": "LEhGQqU79-MO"
      },
      "source": [
        "O *decorator* `@staticmethod` pode ser chamado de um objeto de classe não instanciado para que possamos fazer coisas como essa:"
      ]
    },
    {
      "cell_type": "code",
      "metadata": {
        "id": "9PdglAwa8_uG",
        "colab": {
          "base_uri": "https://localhost:8080/"
        },
        "outputId": "3105be7d-6383-4b69-9a48-6c29beb45851"
      },
      "source": [
        "# Static method\n",
        "Dog.is_cute(breed=\"Border Collie\")"
      ],
      "execution_count": null,
      "outputs": [
        {
          "output_type": "execute_result",
          "data": {
            "text/plain": [
              "True"
            ]
          },
          "metadata": {},
          "execution_count": 69
        }
      ]
    },
    {
      "cell_type": "markdown",
      "metadata": {
        "id": "nv5ja3dEtfJN"
      },
      "source": [
        "# *Decorators*"
      ]
    },
    {
      "cell_type": "markdown",
      "metadata": {
        "id": "8aSOSxkSw8lu"
      },
      "source": [
        "Lembre-se de que as funções nos permitem modularizar o código e reutilizá-lo. No entanto, muitas vezes queremos adicionar alguma funcionalidade antes ou depois da execução da função principal e podemos fazer isso para muitas funções diferentes. Em vez de adicionar mais código à função original, podemos usar *decorators*!\n",
        "\n",
        "* ***decorators***: mudam o comportamento da função através de pré ou pós-processamento. Os *decorators* envolvem a função principal e nos permitem operar nas entradas e/ou saídas."
      ]
    },
    {
      "cell_type": "markdown",
      "metadata": {
        "id": "-AdOBNG7FGJB"
      },
      "source": [
        "Suponha que temos uma função chamada `operations` que incrementa o valor de entrada x em 1."
      ]
    },
    {
      "cell_type": "code",
      "metadata": {
        "id": "B-JYWOyP1ekZ"
      },
      "source": [
        "def operations(x):\n",
        "    \"\"\"Basic operations.\"\"\"\n",
        "    x += 1\n",
        "    return x"
      ],
      "execution_count": null,
      "outputs": []
    },
    {
      "cell_type": "code",
      "metadata": {
        "id": "XD6oY_8C1en8",
        "colab": {
          "base_uri": "https://localhost:8080/"
        },
        "outputId": "4e93ba32-8b49-4739-9cbe-a63538184f25"
      },
      "source": [
        "operations(x=1)"
      ],
      "execution_count": null,
      "outputs": [
        {
          "output_type": "execute_result",
          "data": {
            "text/plain": [
              "2"
            ]
          },
          "metadata": {},
          "execution_count": 71
        }
      ]
    },
    {
      "cell_type": "markdown",
      "metadata": {
        "id": "LbAeHmc91iq-"
      },
      "source": [
        "Agora, digamos que queremos incrementar nossa entrada x em 1 antes e depois da execução da função `operations` e, para ilustrar este exemplo, digamos que os incrementos devem ser etapas separadas. Veja como faríamos isso alterando o código original:"
      ]
    },
    {
      "cell_type": "code",
      "metadata": {
        "id": "_zZMfUHq7xuv"
      },
      "source": [
        "def operations(x):\n",
        "    \"\"\"Basic operations.\"\"\"\n",
        "    x += 1 \n",
        "    x += 1\n",
        "    x += 1\n",
        "    return x"
      ],
      "execution_count": null,
      "outputs": []
    },
    {
      "cell_type": "code",
      "metadata": {
        "id": "43BhH51m73Kf",
        "colab": {
          "base_uri": "https://localhost:8080/"
        },
        "outputId": "1f9bea39-d1d7-4976-87d5-3c237f1cbbed"
      },
      "source": [
        "operations(x=1)"
      ],
      "execution_count": null,
      "outputs": [
        {
          "output_type": "execute_result",
          "data": {
            "text/plain": [
              "4"
            ]
          },
          "metadata": {},
          "execution_count": 73
        }
      ]
    },
    {
      "cell_type": "markdown",
      "metadata": {
        "id": "dIorZSTM72h-"
      },
      "source": [
        "Conseguimos o que queríamos, mas agora aumentamos o tamanho de nossa função `operações` e se quisermos fazer o mesmo incremento para qualquer outra função, temos que adicionar o mesmo código a todas elas também ... não muito eficiente. Para resolver isso, vamos criar um *decorator* chamado `add` que incrementa `x` em 1 antes e depois da execução da função principal `f`."
      ]
    },
    {
      "cell_type": "markdown",
      "metadata": {
        "id": "kvMbqzW5cikA"
      },
      "source": [
        "### Criando uma função *decorator*"
      ]
    },
    {
      "cell_type": "markdown",
      "metadata": {
        "id": "RFReNETpci1M"
      },
      "source": [
        "A função *decorator* aceita uma função `f` que é a função que desejamos envolver, no nosso caso, é `operations()`. A saída do *decorator* é sua função `wrapper` que recebe os argumentos passados para a função `f`.\n",
        "\n",
        "Dentro da função `wrapper`, podemos:\n",
        "1. extrair os parâmetros de entrada passados para a função `f`.\n",
        "2. fazer as alterações desejadas nas entradas da função.\n",
        "3. executar a função `f`.\n",
        "4. fazer qualquer alteração nas saídas da função\n",
        "5. retornar valores."
      ]
    },
    {
      "cell_type": "code",
      "metadata": {
        "id": "6Lf7Ixrasiby"
      },
      "source": [
        "# Decorator\n",
        "def add(f):\n",
        "    def wrapper(*args, **kwargs):\n",
        "        \"\"\"Wrapper function for @add.\"\"\"\n",
        "        x = kwargs.pop(\"x\") # .get() if not altering x\n",
        "        x += 1 # executes before function f\n",
        "        x = f(*args, **kwargs, x=x)\n",
        "        x += 1 # executes after function f\n",
        "        return x\n",
        "    return wrapper"
      ],
      "execution_count": null,
      "outputs": []
    },
    {
      "cell_type": "markdown",
      "metadata": {
        "id": "uVPWm6yfAmk9"
      },
      "source": [
        "Podemos usar este *decorator* simplesmente adicionando-o ao topo de nossa função principal precedido pelo símbolo `@`."
      ]
    },
    {
      "cell_type": "code",
      "metadata": {
        "id": "CY2Vtxv9sih6"
      },
      "source": [
        "@add\n",
        "def operations(x):\n",
        "    \"\"\"Basic operations.\"\"\"\n",
        "    x += 1\n",
        "    return x"
      ],
      "execution_count": null,
      "outputs": []
    },
    {
      "cell_type": "code",
      "metadata": {
        "id": "-BhmFvkJsifJ",
        "colab": {
          "base_uri": "https://localhost:8080/"
        },
        "outputId": "1209a134-3ef0-42f4-fa79-e1b45ffec3a3"
      },
      "source": [
        "operations(x=1)"
      ],
      "execution_count": null,
      "outputs": [
        {
          "output_type": "execute_result",
          "data": {
            "text/plain": [
              "4"
            ]
          },
          "metadata": {},
          "execution_count": 76
        }
      ]
    },
    {
      "cell_type": "markdown",
      "metadata": {
        "id": "rX4Ag4ryArQl"
      },
      "source": [
        "Suponha que quiséssemos depurar e ver qual função realmente é executada com `operations()`."
      ]
    },
    {
      "cell_type": "code",
      "metadata": {
        "id": "LsDkTSz6siZG",
        "colab": {
          "base_uri": "https://localhost:8080/"
        },
        "outputId": "df99fc76-51fe-4972-dafd-af0409574ccb"
      },
      "source": [
        "operations.__name__, operations.__doc__"
      ],
      "execution_count": null,
      "outputs": [
        {
          "output_type": "execute_result",
          "data": {
            "text/plain": [
              "('wrapper', 'Wrapper function for @add.')"
            ]
          },
          "metadata": {},
          "execution_count": 77
        }
      ]
    },
    {
      "cell_type": "markdown",
      "metadata": {
        "id": "G9Rd1PrjA5d9"
      },
      "source": [
        "O nome da função e docstring não são o que estamos procurando, mas aparece assim porque a função `wrapper` é o que foi executado. Para corrigir isso, o Python oferece `functools.wraps`, que serve para carregar os metadados da função principal."
      ]
    },
    {
      "cell_type": "code",
      "metadata": {
        "id": "AtyQ8qb_upnc"
      },
      "source": [
        "from functools import wraps"
      ],
      "execution_count": null,
      "outputs": []
    },
    {
      "cell_type": "code",
      "metadata": {
        "id": "ggp95rl4uuKW"
      },
      "source": [
        "# Decorator\n",
        "def add(f):\n",
        "    @wraps(f)\n",
        "    def wrap(*args, **kwargs):\n",
        "        \"\"\"Wrapper function for @add.\"\"\"\n",
        "        x = kwargs.pop(\"x\") \n",
        "        x += 1\n",
        "        x = f(*args, **kwargs, x=x)\n",
        "        x += 1\n",
        "        return x\n",
        "    return wrap"
      ],
      "execution_count": null,
      "outputs": []
    },
    {
      "cell_type": "code",
      "metadata": {
        "id": "GvWdFV5XuuPn"
      },
      "source": [
        "@add\n",
        "def operations(x):\n",
        "    \"\"\"Basic operations.\"\"\"\n",
        "    x += 1\n",
        "    return x"
      ],
      "execution_count": null,
      "outputs": []
    },
    {
      "cell_type": "code",
      "metadata": {
        "id": "90Za5Wb0uuNl",
        "colab": {
          "base_uri": "https://localhost:8080/"
        },
        "outputId": "dadb0873-c693-42f4-cd3f-9d15d83b5b62"
      },
      "source": [
        "operations.__name__, operations.__doc__"
      ],
      "execution_count": null,
      "outputs": [
        {
          "output_type": "execute_result",
          "data": {
            "text/plain": [
              "('operations', 'Basic operations.')"
            ]
          },
          "metadata": {},
          "execution_count": 81
        }
      ]
    },
    {
      "cell_type": "markdown",
      "metadata": {
        "id": "aDR_uPXHBiIR"
      },
      "source": [
        "Incrível! Conseguimos \"decorar\" nossa função principal `operation ()` para personalizá-la sem alterar a função original. Podemos reutilizar nosso *decorator* para outras funções que precisem da mesma customização!\n",
        "\n",
        "> Este foi um exemplo fictício para mostrar como os *decorators* funcionam, mas os usaremos intensamente durante nossas aulas de [MLOps](https://madewithml.com/#mlops). Um dos cenários seria utilizar *decorators* para uniformzar respostas JSON de cada endpoint de uma API, sem ter que incluir muito código em cada endpoint."
      ]
    },
    {
      "cell_type": "markdown",
      "metadata": {
        "id": "__HvzfLUB_qK"
      },
      "source": [
        "# *Callbacks*"
      ]
    },
    {
      "cell_type": "markdown",
      "metadata": {
        "id": "46RnJdMZCDT3"
      },
      "source": [
        "*Decorators* permitem que operações personalizadas sejam executadas antes e depois da função principal. Mas, e se quiséssemos executar algo entre o antes e depois? Suponha que queiramos, condicionalmente, fazer algumas operações. Ao invés de escrever um monte de blocos if e encher nossa função de código, nós podemos usar *callbacks*!\n",
        "\n",
        "*   **callbacks**: processamento condicional dentro da função."
      ]
    },
    {
      "cell_type": "markdown",
      "metadata": {
        "id": "_QEMtyB3FK34"
      },
      "source": [
        "Nossas callbacks serão classes que têm funções nomeadas que vão executar em diversos períodos durante a execução da função principal. \n",
        "\n",
        "Our callbacks will be classes that have functions with key names that will execute at various periods during the main function's execution. Os nomes da função ficam a nosso critério, mas precisamos invocar as mesmas funções na função principal."
      ]
    },
    {
      "cell_type": "code",
      "metadata": {
        "id": "YUfpcY11uplW"
      },
      "source": [
        "# Callback\n",
        "class x_tracker(object):\n",
        "    def __init__(self, x):\n",
        "        self.history = []\n",
        "    def at_start(self, x):\n",
        "        self.history.append(x)\n",
        "    def at_end(self, x):\n",
        "        self.history.append(x)"
      ],
      "execution_count": null,
      "outputs": []
    },
    {
      "cell_type": "markdown",
      "metadata": {
        "id": "9hphXr9hC0Us"
      },
      "source": [
        "Podemos passar quantas callbacks quisermos e, como elas foram nomeadas apropriadamente, serão invocadas no momento certo."
      ]
    },
    {
      "cell_type": "code",
      "metadata": {
        "id": "F3XFote_CzlA"
      },
      "source": [
        "def operations(x, callbacks=[]):\n",
        "    \"\"\"Basic operations.\"\"\"\n",
        "    for callback in callbacks:\n",
        "        callback.at_start(x)\n",
        "    x += 1\n",
        "    for callback in callbacks:\n",
        "        callback.at_end(x)\n",
        "    return x"
      ],
      "execution_count": null,
      "outputs": []
    },
    {
      "cell_type": "code",
      "metadata": {
        "id": "d_QV5MZNDILI",
        "colab": {
          "base_uri": "https://localhost:8080/"
        },
        "outputId": "374323b7-1e3e-4486-8859-3403ff5811ba"
      },
      "source": [
        "x = 1\n",
        "tracker = x_tracker(x=x)\n",
        "operations(x=x, callbacks=[tracker])"
      ],
      "execution_count": null,
      "outputs": [
        {
          "output_type": "execute_result",
          "data": {
            "text/plain": [
              "2"
            ]
          },
          "metadata": {},
          "execution_count": 84
        }
      ]
    },
    {
      "cell_type": "code",
      "metadata": {
        "id": "j0RZ90HoDMbx",
        "colab": {
          "base_uri": "https://localhost:8080/"
        },
        "outputId": "8beda026-3cd2-4901-c35e-ef5030fcc056"
      },
      "source": [
        "tracker.history"
      ],
      "execution_count": null,
      "outputs": [
        {
          "output_type": "execute_result",
          "data": {
            "text/plain": [
              "[1, 2]"
            ]
          },
          "metadata": {},
          "execution_count": 85
        }
      ]
    },
    {
      "cell_type": "markdown",
      "metadata": {
        "id": "ET1f4aleDYWZ"
      },
      "source": [
        "# Juntando tudo"
      ]
    },
    {
      "cell_type": "markdown",
      "metadata": {
        "id": "V52b86DxDbux"
      },
      "source": [
        "decorators + callbacks são uma poderosa combinação para executar código *antes*, *durante* e *depois* da execução da função principal, sem aumentar a sua complexidade. Nas próximas aulas, nós usaremos essa combinação para criar poderosos scripts altamente customizáveis."
      ]
    },
    {
      "cell_type": "code",
      "metadata": {
        "id": "BEeYY6QHEsE-"
      },
      "source": [
        "from functools import wraps"
      ],
      "execution_count": null,
      "outputs": []
    },
    {
      "cell_type": "code",
      "metadata": {
        "id": "NPcjeVOkEsLC"
      },
      "source": [
        "# Decorator\n",
        "def add(f):\n",
        "    @wraps(f)\n",
        "    def wrap(*args, **kwargs):\n",
        "        \"\"\"Wrapper function for @add.\"\"\"\n",
        "        x = kwargs.pop(\"x\") # .get() if not altering x\n",
        "        x += 1 # executes before function f\n",
        "        x = f(*args, **kwargs, x=x)\n",
        "        # can do things post function f as well\n",
        "        return x\n",
        "    return wrap"
      ],
      "execution_count": null,
      "outputs": []
    },
    {
      "cell_type": "code",
      "metadata": {
        "id": "rBPVInWfEsIk"
      },
      "source": [
        "# Callback\n",
        "class x_tracker(object):\n",
        "    def __init__(self, x):\n",
        "        self.history = [x]\n",
        "    def at_start(self, x):\n",
        "        self.history.append(x)\n",
        "    def at_end(self, x):\n",
        "        self.history.append(x)"
      ],
      "execution_count": null,
      "outputs": []
    },
    {
      "cell_type": "code",
      "metadata": {
        "id": "Px0vMT9gFcyp"
      },
      "source": [
        "# Main function\n",
        "@add\n",
        "def operations(x, callbacks=[]):\n",
        "    \"\"\"Basic operations.\"\"\"\n",
        "    for callback in callbacks:\n",
        "        callback.at_start(x)\n",
        "    x += 1\n",
        "    for callback in callbacks:\n",
        "        callback.at_end(x)\n",
        "    return x"
      ],
      "execution_count": null,
      "outputs": []
    },
    {
      "cell_type": "code",
      "metadata": {
        "id": "0AhGDNPWFc4i",
        "colab": {
          "base_uri": "https://localhost:8080/"
        },
        "outputId": "479c6a43-f86b-4e64-84bf-b8b8a28962b7"
      },
      "source": [
        "x = 1\n",
        "tracker = x_tracker(x=x)\n",
        "operations(x=x, callbacks=[tracker])"
      ],
      "execution_count": null,
      "outputs": [
        {
          "output_type": "execute_result",
          "data": {
            "text/plain": [
              "3"
            ]
          },
          "metadata": {},
          "execution_count": 90
        }
      ]
    },
    {
      "cell_type": "code",
      "metadata": {
        "id": "ajyUN2y0Fc2E",
        "colab": {
          "base_uri": "https://localhost:8080/"
        },
        "outputId": "18567396-474d-4303-a84c-77d026d40459"
      },
      "source": [
        "tracker.history"
      ],
      "execution_count": null,
      "outputs": [
        {
          "output_type": "execute_result",
          "data": {
            "text/plain": [
              "[1, 2, 3]"
            ]
          },
          "metadata": {},
          "execution_count": 91
        }
      ]
    }
  ]
}