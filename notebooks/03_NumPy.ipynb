{
  "nbformat": 4,
  "nbformat_minor": 0,
  "metadata": {
    "colab": {
      "provenance": [],
      "toc_visible": true,
      "authorship_tag": "ABX9TyOpsTcBpVzDwMVZYYy/tTG4",
      "include_colab_link": true
    },
    "kernelspec": {
      "name": "python3",
      "display_name": "Python 3"
    },
    "language_info": {
      "name": "python"
    }
  },
  "cells": [
    {
      "cell_type": "markdown",
      "metadata": {
        "id": "view-in-github",
        "colab_type": "text"
      },
      "source": [
        "<a href=\"https://colab.research.google.com/github/rodrigocan/made-with-ml/blob/main/notebooks/03_NumPy.ipynb\" target=\"_parent\"><img src=\"https://colab.research.google.com/assets/colab-badge.svg\" alt=\"Open In Colab\"/></a>"
      ]
    },
    {
      "cell_type": "markdown",
      "source": [
        "# NumPy\n",
        "Nesta aula, vamos aprender o básico de análise numérica utilizando a biblioteca NumPy."
      ],
      "metadata": {
        "id": "FGSChChykjXt"
      }
    },
    {
      "cell_type": "markdown",
      "source": [
        "# Configuração"
      ],
      "metadata": {
        "id": "WZ62SgMuk3hu"
      }
    },
    {
      "cell_type": "code",
      "source": [
        "import numpy as np"
      ],
      "metadata": {
        "id": "8wFrOARuk9Ed"
      },
      "execution_count": 2,
      "outputs": []
    },
    {
      "cell_type": "code",
      "source": [
        "# Definir um seed para que seja possível reproduzir os resultados em outro ambiente\n",
        "np.random.seed(seed = 1234)"
      ],
      "metadata": {
        "id": "4v6njnZTlA32"
      },
      "execution_count": 3,
      "outputs": []
    },
    {
      "cell_type": "markdown",
      "source": [
        "# Básico\n",
        "\n",
        "Vejamos como criar tensores com o NumPy.\n",
        "\n",
        "* **Tensor**: coleção de valores\n",
        "\n",
        "![tensor](https://camo.githubusercontent.com/645b33d9abed9a01a3bf0aabdce26afacc4d7ad7ef58d8f29017b56e81e16416/68747470733a2f2f6d616465776974686d6c2e636f6d2f7374617469632f696d616765732f666f756e646174696f6e732f6e756d70792f74656e736f72732e706e67)"
      ],
      "metadata": {
        "id": "WzyBNRCNlQ11"
      }
    },
    {
      "cell_type": "code",
      "source": [
        "# Escalar\n",
        "x = np.array(6)\n",
        "print (\"x: \", x)\n",
        "print (\"x ndim: \", x.ndim) # número de dimensões\n",
        "print(\"x shape:\", x.shape) # dimensões\n",
        "print(\"x size:\", x.size) # tamanho dos elementos\n",
        "print(\"x dtype: \", x.dtype) # tipo de dado"
      ],
      "metadata": {
        "colab": {
          "base_uri": "https://localhost:8080/"
        },
        "id": "Ye2K2-Pgl3X6",
        "outputId": "5ba4d9f6-5175-4e98-8792-9b9340d5f147"
      },
      "execution_count": 4,
      "outputs": [
        {
          "output_type": "stream",
          "name": "stdout",
          "text": [
            "x:  6\n",
            "x ndim:  0\n",
            "x shape: ()\n",
            "x size: 1\n",
            "x dtype:  int64\n"
          ]
        }
      ]
    },
    {
      "cell_type": "code",
      "source": [
        "# Vetor\n",
        "x = np.array([1.3, 2.2, 1.7])\n",
        "print(\"x: \", x)\n",
        "print(\"x ndim:\", x.ndim)\n",
        "print(\"x shape:\", x.shape)\n",
        "print(\"x size:\", x.size)\n",
        "print(\"x dtype:\", x.dtype) # perceba o tipo float"
      ],
      "metadata": {
        "colab": {
          "base_uri": "https://localhost:8080/"
        },
        "id": "X086uQq9mhYw",
        "outputId": "623d8417-4a66-4137-de21-ee76cca13f7c"
      },
      "execution_count": 5,
      "outputs": [
        {
          "output_type": "stream",
          "name": "stdout",
          "text": [
            "x:  [1.3 2.2 1.7]\n",
            "x ndim: 1\n",
            "x shape: (3,)\n",
            "x size: 3\n",
            "x dtype: float64\n"
          ]
        }
      ]
    },
    {
      "cell_type": "code",
      "source": [
        "# Matriz\n",
        "x = np.array([[1, 2], [3, 4]])\n",
        "print(\"x:\\n\", x)\n",
        "print(\"x ndim\", x.ndim)\n",
        "print(\"x shape\", x.shape)\n",
        "print(\"x size\", x.size)\n",
        "print(\"x dtype\", x.dtype)"
      ],
      "metadata": {
        "colab": {
          "base_uri": "https://localhost:8080/"
        },
        "id": "p4KTPgd4nFbo",
        "outputId": "0b495a03-b664-499c-d0bd-6f12bf016095"
      },
      "execution_count": 6,
      "outputs": [
        {
          "output_type": "stream",
          "name": "stdout",
          "text": [
            "x:\n",
            " [[1 2]\n",
            " [3 4]]\n",
            "x ndim 2\n",
            "x shape (2, 2)\n",
            "x size 4\n",
            "x dtype int64\n"
          ]
        }
      ]
    },
    {
      "cell_type": "code",
      "source": [
        "# Tensor 3D\n",
        "x = np.array([[[1, 2], [3, 4]], [[5, 6], [7, 8]]])\n",
        "print(\"x:\\n\", x)\n",
        "print(\"x ndim:\\n\", x.ndim)\n",
        "print(\"x shape:\\n\", x.shape)\n",
        "print(\"x size:\\n\", x.size)\n",
        "print(\"x dtype:\\n\", x.dtype)"
      ],
      "metadata": {
        "colab": {
          "base_uri": "https://localhost:8080/"
        },
        "id": "44otwg5dorCa",
        "outputId": "7e3451df-0bff-40ff-9aac-a09e8a704ae3"
      },
      "execution_count": 12,
      "outputs": [
        {
          "output_type": "stream",
          "name": "stdout",
          "text": [
            "x:\n",
            " [[[1 2]\n",
            "  [3 4]]\n",
            "\n",
            " [[5 6]\n",
            "  [7 8]]]\n",
            "x ndim:\n",
            " 3\n",
            "x shape:\n",
            " (2, 2, 2)\n",
            "x size:\n",
            " 8\n",
            "x dtype:\n",
            " int64\n"
          ]
        }
      ]
    },
    {
      "cell_type": "markdown",
      "source": [
        "O NumPy também vem com uma série de funções que permitem criar tensores rapidamente."
      ],
      "metadata": {
        "id": "7R_XZMj7nmso"
      }
    },
    {
      "cell_type": "code",
      "source": [
        "# Funções\n",
        "print(\"np.zeros((2, 2)):\\n\", np.zeros((2, 2)))\n",
        "print(\"np.ones((2, 2)):\\n\", np.ones((2, 2)))\n",
        "print(\"np.eye((2)):\\n\", np.eye((2))) # matriz identidade\n",
        "print(\"np.random.random((2, 2)):\\n\", np.random.random((2, 2)))"
      ],
      "metadata": {
        "colab": {
          "base_uri": "https://localhost:8080/"
        },
        "id": "r4cffGqonvm1",
        "outputId": "82901597-78d7-4cb0-f1ef-de41450c5d41"
      },
      "execution_count": null,
      "outputs": [
        {
          "output_type": "stream",
          "name": "stdout",
          "text": [
            "np.zeros((2, 2)):\n",
            " [[0. 0.]\n",
            " [0. 0.]]\n",
            "np.ones((2, 2)):\n",
            " [[1. 1.]\n",
            " [1. 1.]]\n",
            "np.eye((2)):\n",
            " [[1. 0.]\n",
            " [0. 1.]]\n",
            "np.random.random((2, 2)):\n",
            " [[0.19151945 0.62210877]\n",
            " [0.43772774 0.78535858]]\n"
          ]
        }
      ]
    },
    {
      "cell_type": "markdown",
      "source": [
        "# *Indexing*"
      ],
      "metadata": {
        "id": "FWZEy6KWoTJP"
      }
    },
    {
      "cell_type": "markdown",
      "source": [
        "Podemos extrair valores específicos dos tensores usando os índices.\n",
        "\n",
        "> Tenha em mente que os índices das linhas e colunas começam em 0. Como nas listas, podemos utilizar índices negativos (onde -1 corresponde ao último item).\n",
        "\n",
        "![indexing](https://camo.githubusercontent.com/22f0f6308f67ecbb0d520f6a33d6c1400d4358b8e510d25dea7aa8b2634a38c0/68747470733a2f2f6d616465776974686d6c2e636f6d2f7374617469632f696d616765732f666f756e646174696f6e732f6e756d70792f696e646578696e672e706e67)"
      ],
      "metadata": {
        "id": "EHHEkA6_0wDM"
      }
    },
    {
      "cell_type": "code",
      "source": [
        "# Indexing\n",
        "x = np.array([1, 2, 3])\n",
        "print(\"x: \", x)\n",
        "print(\"x[0]: \", x[0])\n",
        "x[0] = 0\n",
        "print(\"x: \", x)"
      ],
      "metadata": {
        "colab": {
          "base_uri": "https://localhost:8080/"
        },
        "id": "F2_9FTFW1f7V",
        "outputId": "92474b68-79e6-406a-aafc-f1080f19ec7f"
      },
      "execution_count": 15,
      "outputs": [
        {
          "output_type": "stream",
          "name": "stdout",
          "text": [
            "x:  [1 2 3]\n",
            "x[0]:  1\n",
            "x:  [0 2 3]\n"
          ]
        }
      ]
    },
    {
      "cell_type": "code",
      "source": [
        "# Slicing\n",
        "x = np.array([[1, 2, 3, 4], [5, 6, 7, 8], [9, 10, 11, 12]])\n",
        "print(x)\n",
        "print(\"x column 1: \", x[:, 1])\n",
        "print(\"x row 0: \", x[0, :])\n",
        "print(\"x rows 0, 1 & cols 1, 2: \\n\", x[0:2, 1:3])"
      ],
      "metadata": {
        "colab": {
          "base_uri": "https://localhost:8080/"
        },
        "id": "W5awlJoW1x3c",
        "outputId": "663bf782-eda0-4ad7-b41b-05919cbaa23e"
      },
      "execution_count": 20,
      "outputs": [
        {
          "output_type": "stream",
          "name": "stdout",
          "text": [
            "[[ 1  2  3  4]\n",
            " [ 5  6  7  8]\n",
            " [ 9 10 11 12]]\n",
            "x column 1:  [ 2  6 10]\n",
            "x row 0:  [1 2 3 4]\n",
            "x rows 0, 1 & cols 1, 2: \n",
            " [[2 3]\n",
            " [6 7]]\n"
          ]
        }
      ]
    },
    {
      "cell_type": "code",
      "source": [
        "# Indexing com array de inteiros\n",
        "print(x)\n",
        "rows_to_get = np.array([0, 1, 2])\n",
        "print(\"rows_to_get: \", rows_to_get)\n",
        "cols_to_get = np.array([0, 2, 1])\n",
        "print(\"cols_to_get: \", cols_to_get)\n",
        "# Combinando as sequências acima para pegar os valores\n",
        "print(\"indexed values: \", x[rows_to_get, cols_to_get])"
      ],
      "metadata": {
        "colab": {
          "base_uri": "https://localhost:8080/"
        },
        "id": "W0FSkZaF4mw6",
        "outputId": "de24b8fc-435a-4760-b0b2-abf60abb1aa0"
      },
      "execution_count": 24,
      "outputs": [
        {
          "output_type": "stream",
          "name": "stdout",
          "text": [
            "[[ 1  2  3  4]\n",
            " [ 5  6  7  8]\n",
            " [ 9 10 11 12]]\n",
            "rows_to_get:  [0 1 2]\n",
            "cols_to_get:  [0 2 1]\n",
            "indexed values:  [ 1  7 10]\n"
          ]
        }
      ]
    },
    {
      "cell_type": "code",
      "source": [
        "# Indexing com array de booleanos\n",
        "x = np.array([[1, 2], [3, 4], [5, 6]])\n",
        "print(\"x:\\n\", x)\n",
        "print(\"x > 2:\\n\", x > 2)\n",
        "print(\"x[x > 2]:\\n\", x[x > 2])"
      ],
      "metadata": {
        "colab": {
          "base_uri": "https://localhost:8080/"
        },
        "id": "1fQSGLwC5nkB",
        "outputId": "1c2870d2-ed2e-4449-d35f-a5c9ede8e4a7"
      },
      "execution_count": 27,
      "outputs": [
        {
          "output_type": "stream",
          "name": "stdout",
          "text": [
            "x:\n",
            " [[1 2]\n",
            " [3 4]\n",
            " [5 6]]\n",
            "x > 2:\n",
            " [[False False]\n",
            " [ True  True]\n",
            " [ True  True]]\n",
            "x[x > 2]:\n",
            " [3 4 5 6]\n"
          ]
        }
      ]
    },
    {
      "cell_type": "markdown",
      "source": [
        "# Aritmética"
      ],
      "metadata": {
        "id": "EjciGwE_6KQ6"
      }
    },
    {
      "cell_type": "code",
      "source": [
        "# Matemática básica\n",
        "x = np.array([[1, 2], [3, 4]], dtype = np.float64)\n",
        "y = np.array([[1, 2], [3, 4]], dtype = np.float64)\n",
        "print(\"x + y:\\n\", np.add(x, y)) # ou x + y\n",
        "print(\"x - y:\\n\", np.subtract(x, y)) # ou x - y\n",
        "print(\"x * y:\\n\", np.multiply(x, y)) # ou x * y"
      ],
      "metadata": {
        "colab": {
          "base_uri": "https://localhost:8080/"
        },
        "id": "gKwvBDLL6NKB",
        "outputId": "05e19d2b-de7b-4446-c748-3e44c78be94d"
      },
      "execution_count": 30,
      "outputs": [
        {
          "output_type": "stream",
          "name": "stdout",
          "text": [
            "x + y:\n",
            " [[2. 4.]\n",
            " [6. 8.]]\n",
            "x - y:\n",
            " [[0. 0.]\n",
            " [0. 0.]]\n",
            "x * y:\n",
            " [[ 1.  4.]\n",
            " [ 9. 16.]]\n"
          ]
        }
      ]
    },
    {
      "cell_type": "markdown",
      "source": [
        "## Produto escalar\n",
        "\n",
        "Uma das operações mais comuns no NumPy, que vamos utilizar para aprendizado de máquina, é a multiplicação de matrizes utilizando o produto escalar. Na ilustração seguinte, o número de linhas da primeira matriz (2) e o número de colunas da segunda (2) determinam a forma da matriz resultante (2 x 2). O único requisito para o produto escalar é que o número de colunas da primeira matriz seja igual ao número de linhas da segunda matriz:\n",
        "\n",
        "![produto_escalar_matrizes](https://camo.githubusercontent.com/85f721b74a7d14674b941a4c6bd9dd2d209001eb70eec5365b85ade7513490fb/68747470733a2f2f6d616465776974686d6c2e636f6d2f7374617469632f696d616765732f666f756e646174696f6e732f6e756d70792f646f742e676966)"
      ],
      "metadata": {
        "id": "teV9r7hA69TB"
      }
    },
    {
      "cell_type": "code",
      "source": [
        "# Produto escalar\n",
        "a = np.array([[1, 2, 3], [4, 5, 6]], dtype = np.float64) # podemos especificar o dtype\n",
        "b = np.array([[7, 8], [9, 10], [11, 12]])\n",
        "c = a.dot(b)\n",
        "print(f\"{a.shape} . {b.shape} = {c.shape}\")\n",
        "print(c)"
      ],
      "metadata": {
        "colab": {
          "base_uri": "https://localhost:8080/"
        },
        "id": "DezQDO3rOclz",
        "outputId": "d3800ca9-ceb7-4116-ea7a-e5d9d372b1f7"
      },
      "execution_count": 32,
      "outputs": [
        {
          "output_type": "stream",
          "name": "stdout",
          "text": [
            "(2, 3) . (3, 2) = (2, 2)\n",
            "[[ 58.  64.]\n",
            " [139. 154.]]\n"
          ]
        }
      ]
    },
    {
      "cell_type": "markdown",
      "source": [
        "## Operações no eixo\n",
        "\n",
        "Podemos realizar operações ao longo de eixos específicos:\n",
        "\n",
        "![operacoes_eixos](https://camo.githubusercontent.com/869a8b07835ea2e50abdd5b08b4a604de09b52acda3b19154df333593288a885/68747470733a2f2f6d616465776974686d6c2e636f6d2f7374617469632f696d616765732f666f756e646174696f6e732f6e756d70792f617869732e676966)"
      ],
      "metadata": {
        "id": "tSTJ_535QFWH"
      }
    },
    {
      "cell_type": "code",
      "source": [
        "# Soma em uma dimensão\n",
        "x = np.array([[1, 2], [3, 4]])\n",
        "print(x)\n",
        "print(\"sum all: \", np.sum(x)) # soma de todos os elementos\n",
        "print(\"sum axis=0: \", np.sum(x, axis = 0)) # soma de cada coluna\n",
        "print(\"sum axis=1: \", np.sum(x, axis = 1)) # soma de cada linha"
      ],
      "metadata": {
        "colab": {
          "base_uri": "https://localhost:8080/"
        },
        "id": "MLjsFwJPQeqy",
        "outputId": "1e6e0fff-462a-429c-c326-f549fdcc4e46"
      },
      "execution_count": 38,
      "outputs": [
        {
          "output_type": "stream",
          "name": "stdout",
          "text": [
            "[[1 2]\n",
            " [3 4]]\n",
            "sum all:  10\n",
            "sum axis=0:  [4 6]\n",
            "sum axis=1:  [3 7]\n"
          ]
        }
      ]
    },
    {
      "cell_type": "code",
      "source": [
        "# Min/max\n",
        "x = np.array([[1, 2, 3], [4, 5, 6]])\n",
        "print(x)\n",
        "print(\"min: \", x.min())\n",
        "print(\"max: \", x.max())\n",
        "print(\"min axis=0: \", x.min(axis = 0)) # mínimo de cada coluna\n",
        "print(\"min axis=1: \", x.min(axis = 1)) # mínimo de cada linha"
      ],
      "metadata": {
        "colab": {
          "base_uri": "https://localhost:8080/"
        },
        "id": "J-hUQfR-SWSD",
        "outputId": "3a787bea-ec20-4fcb-9793-c320b85dfacc"
      },
      "execution_count": 45,
      "outputs": [
        {
          "output_type": "stream",
          "name": "stdout",
          "text": [
            "[[1 2 3]\n",
            " [4 5 6]]\n",
            "min:  1\n",
            "max:  6\n",
            "min axis=0:  [1 2 3]\n",
            "min axis=1:  [1 4]\n"
          ]
        }
      ]
    },
    {
      "cell_type": "markdown",
      "source": [
        "## Transmissão\n",
        "\n",
        "Aqui, nós vamos somar um vetor com um escalar. As dimensões não são compatíveis, mas como o NumPy ainda nos dá o resultado correto. É aqui que entra o transmissão. O escalar é transmitido através do vetor para que tenham formas compatíveis."
      ],
      "metadata": {
        "id": "qjEn-BcbTF8B"
      }
    },
    {
      "cell_type": "code",
      "source": [
        "# Transmissão\n",
        "x = np.array([1, 2]) # vetor\n",
        "y = np.array(3) # escalar\n",
        "z = x + y\n",
        "print(\"z\\n\", z)"
      ],
      "metadata": {
        "colab": {
          "base_uri": "https://localhost:8080/"
        },
        "id": "gmLUmDbPUcDq",
        "outputId": "16f9a836-c4c1-463d-d749-741ca5072207"
      },
      "execution_count": 46,
      "outputs": [
        {
          "output_type": "stream",
          "name": "stdout",
          "text": [
            "z\n",
            " [4 5]\n"
          ]
        }
      ]
    },
    {
      "cell_type": "markdown",
      "source": [
        "## Transposição\n",
        "\n",
        "Muitas vezes precisamos mudar as dimensões dos nossos tensores para operações como o produto escalar. Neste caso, podemos transpor o tensor."
      ],
      "metadata": {
        "id": "ULUYa1hbUtIT"
      }
    },
    {
      "cell_type": "code",
      "source": [
        "# Transposição\n",
        "x = np.array([[1, 2, 3], [4, 5, 6]])\n",
        "print(\"x\\n\", x)\n",
        "print(\"x.shape: \", x.shape)\n",
        "y = np.transpose(x, (1, 0)) # inverte as dimensões entre linhas e colunas\n",
        "print(\"y:\\n\", y)\n",
        "print(\"y.shape: \", y.shape)"
      ],
      "metadata": {
        "colab": {
          "base_uri": "https://localhost:8080/"
        },
        "id": "8pvUO5WhVHIJ",
        "outputId": "73204c8d-27ec-4a28-87dd-7be91eeb4481"
      },
      "execution_count": 50,
      "outputs": [
        {
          "output_type": "stream",
          "name": "stdout",
          "text": [
            "x\n",
            " [[1 2 3]\n",
            " [4 5 6]]\n",
            "x.shape:  (2, 3)\n",
            "y:\n",
            " [[1 4]\n",
            " [2 5]\n",
            " [3 6]]\n",
            "y.shape:  (3, 2)\n"
          ]
        }
      ]
    },
    {
      "cell_type": "markdown",
      "source": [
        "## *Reshape*\n",
        "\n",
        "Algumas vezes precisamos alterar as dimensões de uma matriz. O reshape nos permite transformar um tensor para outras formas possíveis - nosso tensor transformado terá a mesma quantidade de valores do tensor original (1 x 6 = 2 x 3). Podemos usar o `-1` em uma dimensão e o NumPy vai inferir a dimensão baseada no tensor de entrada.\n",
        "\n",
        "A forma como o reshape funciona é olhando para cada dimensão do novo tensor e separando nosso tensor original em tantas unidades quanto necessário para manter a mesma quantidade de valores. Aqui, a dimensão no índice 0 do novo tensor é 2, então dividimos nosso tensor original em 2 unidades. Logo, cada uma delas terá 3 valores:\n",
        "\n",
        "\n",
        "![reshape](https://camo.githubusercontent.com/03d0018355b2567740f3d1d18a16f45dd055d6bd928c5a086ec390b17096b606/68747470733a2f2f6d616465776974686d6c2e636f6d2f7374617469632f696d616765732f666f756e646174696f6e732f6e756d70792f726573686170652e706e67)"
      ],
      "metadata": {
        "id": "nh1iZeSviAYQ"
      }
    },
    {
      "cell_type": "code",
      "source": [
        "# Reshaping\n",
        "x = np.array([[1, 2, 3, 4, 5, 6]])\n",
        "print(x)\n",
        "print(\"x.shape \", x.shape)\n",
        "y = np.reshape(x, (2, 3))\n",
        "print(\"y: \\n\", y)\n",
        "print(\"y.shape: \", y.shape)\n",
        "z = np.reshape(x, (2, -1))\n",
        "print(\"z: \\n\", z)\n",
        "print(\"z.shape: \", z.shape)"
      ],
      "metadata": {
        "colab": {
          "base_uri": "https://localhost:8080/"
        },
        "id": "M9-t4XQhjq9A",
        "outputId": "cda9f3c4-1ebb-4227-98ec-edc1841b46a4"
      },
      "execution_count": 55,
      "outputs": [
        {
          "output_type": "stream",
          "name": "stdout",
          "text": [
            "[[1 2 3 4 5 6]]\n",
            "x.shape  (1, 6)\n",
            "y: \n",
            " [[1 2 3]\n",
            " [4 5 6]]\n",
            "y.shape:  (2, 3)\n",
            "z: \n",
            " [[1 2 3]\n",
            " [4 5 6]]\n",
            "z.shape:  (2, 3)\n"
          ]
        }
      ]
    },
    {
      "cell_type": "markdown",
      "source": [
        "### Reshape não desejado\n",
        "\n",
        "Embora o reshape seja muito conveniente para manipular tensores, devemos ter cuidado com suas armadilhas. Vejamos o exemplo abaixo. Suponha que temos o tensor x, com a forma [2 x 3 x 4]:"
      ],
      "metadata": {
        "id": "nSNqHi61ke-G"
      }
    },
    {
      "cell_type": "code",
      "source": [
        "x = np.array([[[1, 1, 1, 1], [2, 2, 2, 2], [3, 3, 3, 3]], [[10, 10, 10, 10], [20, 20, 20, 20], [30, 30, 30, 30]]])\n",
        "print(\"x\\n\", x)\n",
        "print(\"x.shape: \", x.shape)"
      ],
      "metadata": {
        "colab": {
          "base_uri": "https://localhost:8080/"
        },
        "id": "1W5I9ZCYlbAu",
        "outputId": "ef0cdb48-df23-489d-b7d0-c46ab605905a"
      },
      "execution_count": 62,
      "outputs": [
        {
          "output_type": "stream",
          "name": "stdout",
          "text": [
            "x\n",
            " [[[ 1  1  1  1]\n",
            "  [ 2  2  2  2]\n",
            "  [ 3  3  3  3]]\n",
            "\n",
            " [[10 10 10 10]\n",
            "  [20 20 20 20]\n",
            "  [30 30 30 30]]]\n",
            "x.shape:  (2, 3, 4)\n"
          ]
        }
      ]
    },
    {
      "cell_type": "markdown",
      "source": [
        "Queremos mudar a forma de x para `[3 x 8]` movendo a dimensão no índice 0 para ser a dimensão no índice 1 e então combinando as 2 outras dimensões. Mas quando fizermos isso, queremos que a nossa saída\n",
        "\n",
        "seja como: ✅"
      ],
      "metadata": {
        "id": "JjeknkfOl_Bh"
      }
    },
    {
      "cell_type": "code",
      "source": [
        "# Reshape desejado\n",
        "y = np.transpose(x, (1, 0, 2))\n",
        "print(\"y:\\n\", y)\n",
        "print(\"y.shape: \", y.shape)\n",
        "z_correct = np.reshape(y, (y.shape[0], -1))\n",
        "print(\"z_correct:\\n\", z_correct)\n",
        "print(\"z_correct.shape: \", z_correct.shape)"
      ],
      "metadata": {
        "colab": {
          "base_uri": "https://localhost:8080/"
        },
        "id": "63uYycEEm3f6",
        "outputId": "024135e3-4744-460a-9b3b-6b268c57bd28"
      },
      "execution_count": 63,
      "outputs": [
        {
          "output_type": "stream",
          "name": "stdout",
          "text": [
            "y:\n",
            " [[[ 1  1  1  1]\n",
            "  [10 10 10 10]]\n",
            "\n",
            " [[ 2  2  2  2]\n",
            "  [20 20 20 20]]\n",
            "\n",
            " [[ 3  3  3  3]\n",
            "  [30 30 30 30]]]\n",
            "y.shape:  (3, 2, 4)\n",
            "z_correct:\n",
            " [[ 1  1  1  1 10 10 10 10]\n",
            " [ 2  2  2  2 20 20 20 20]\n",
            " [ 3  3  3  3 30 30 30 30]]\n",
            "z_correct.shape:  (3, 8)\n"
          ]
        }
      ]
    },
    {
      "cell_type": "markdown",
      "source": [
        "e não como: ❌"
      ],
      "metadata": {
        "id": "CPqdGbGBnyxN"
      }
    },
    {
      "cell_type": "code",
      "source": [
        "# Reshape não desejado\n",
        "z_incorrect = np.reshape(x, (x.shape[1], -1))\n",
        "print(\"z_incorrect:\\n\", z_incorrect)\n",
        "print(\"z_incorrect.shape: \", z_incorrect.shape)"
      ],
      "metadata": {
        "colab": {
          "base_uri": "https://localhost:8080/"
        },
        "id": "6s9B-7GSn5Be",
        "outputId": "2e5a3375-b635-415a-ddda-dbb5693e5d19"
      },
      "execution_count": 65,
      "outputs": [
        {
          "output_type": "stream",
          "name": "stdout",
          "text": [
            "z_incorrect:\n",
            " [[ 1  1  1  1  2  2  2  2]\n",
            " [ 3  3  3  3 10 10 10 10]\n",
            " [20 20 20 20 30 30 30 30]]\n",
            "z_incorrect.shape:  (3, 8)\n"
          ]
        }
      ]
    },
    {
      "cell_type": "markdown",
      "source": [
        "Mesmo que ambos tenham a mesma forma [3 x 8]."
      ],
      "metadata": {
        "id": "bnuWpnRZovI-"
      }
    },
    {
      "cell_type": "markdown",
      "source": [
        "Devemos prestar atenção ao fazer o reshape, pois podemos obter o novo tensão com a forma desejada, mas com os valores incorretos.\n",
        "\n",
        "![reshape_errado](https://camo.githubusercontent.com/b40621fdef6f3375270d5f4e0c9489785aa73fe47056937f71bfd554ba729f33/68747470733a2f2f6d616465776974686d6c2e636f6d2f7374617469632f696d616765732f666f756e646174696f6e732f6e756d70792f726573686170655f77726f6e672e706e67)"
      ],
      "metadata": {
        "id": "R8EMr4Hgo5x6"
      }
    },
    {
      "cell_type": "markdown",
      "source": [
        "Ao invés disso, se transpormos o tensor original e então fizermos o reshape, obtemos o tensor desejado. A transposição nos permite colocar os dois vetores que queremos combinar juntos e então nós usamos o reshape para juntá-los:\n",
        "\n",
        "> Sempre crie um exemplo fictício como este quando não tiver certeza sobre o reshape. Indo cegamente pela forma do tensor pode levar a muitos problemas.\n",
        "\n",
        "![exemplo_reshape](https://camo.githubusercontent.com/3f31bd1df89b91fe6f735b4a57aeaf4c511b0275a56a97b43e92f600eb3c7a27/68747470733a2f2f6d616465776974686d6c2e636f6d2f7374617469632f696d616765732f666f756e646174696f6e732f6e756d70792f726573686170655f72696768742e706e67)"
      ],
      "metadata": {
        "id": "xjayKgSwpXWb"
      }
    },
    {
      "cell_type": "markdown",
      "source": [
        "## Expandindo / reduzindo\n",
        "\n",
        "Podemos facilmente adicionar e remover dimensões para os nossos tensores. Desejaremos fazer isso para tornar nossos tensores compatíveis para certas operações."
      ],
      "metadata": {
        "id": "cLwqrWVuq4Kr"
      }
    },
    {
      "cell_type": "code",
      "source": [
        "# Adicionando dimensões\n",
        "x = np.array([[1, 2, 3], [4, 5, 6]])\n",
        "print(\"x:\\n\", x)\n",
        "print(\"x.shape: \", x.shape)\n",
        "y = np.expand_dims(x, 1) # expande a dimensão 1\n",
        "print(\"y: \\n\", y)\n",
        "print(\"y.shape: \", y.shape)"
      ],
      "metadata": {
        "colab": {
          "base_uri": "https://localhost:8080/"
        },
        "id": "SYLoMWQero_Z",
        "outputId": "bf674ea9-31c6-439a-da7b-0f8849ed9bf3"
      },
      "execution_count": 69,
      "outputs": [
        {
          "output_type": "stream",
          "name": "stdout",
          "text": [
            "x:\n",
            " [[1 2 3]\n",
            " [4 5 6]]\n",
            "x.shape:  (2, 3)\n",
            "y: \n",
            " [[[1 2 3]]\n",
            "\n",
            " [[4 5 6]]]\n",
            "y.shape:  (2, 1, 3)\n"
          ]
        }
      ]
    },
    {
      "cell_type": "code",
      "source": [
        "# Removendo dimensões\n",
        "x = np.array([[[1, 2, 3]], [[4, 5, 6]]])\n",
        "print(\"x:\\n\", x)\n",
        "print(\"x.shape: \", x.shape)\n",
        "y = np.squeeze(x, 1) # comprime a dimensão 1\n",
        "print(\"y: \\n\", y)\n",
        "print(\"y.shape: \", y.shape) # note que os colchetes extras sumiram"
      ],
      "metadata": {
        "colab": {
          "base_uri": "https://localhost:8080/"
        },
        "id": "tqr6VpWQsUOz",
        "outputId": "111cadd6-cc6c-4655-bfe8-e6d55178722a"
      },
      "execution_count": 73,
      "outputs": [
        {
          "output_type": "stream",
          "name": "stdout",
          "text": [
            "x:\n",
            " [[[1 2 3]]\n",
            "\n",
            " [[4 5 6]]]\n",
            "x.shape:  (2, 1, 3)\n",
            "y: \n",
            " [[1 2 3]\n",
            " [4 5 6]]\n",
            "y.shape:  (2, 3)\n"
          ]
        }
      ]
    }
  ]
}