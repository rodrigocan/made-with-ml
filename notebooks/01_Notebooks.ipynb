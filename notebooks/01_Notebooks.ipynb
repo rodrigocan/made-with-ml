{
  "nbformat": 4,
  "nbformat_minor": 0,
  "metadata": {
    "colab": {
      "provenance": [],
      "toc_visible": true,
      "include_colab_link": true
    },
    "kernelspec": {
      "name": "python3",
      "display_name": "Python 3"
    }
  },
  "cells": [
    {
      "cell_type": "markdown",
      "metadata": {
        "id": "view-in-github",
        "colab_type": "text"
      },
      "source": [
        "<a href=\"https://colab.research.google.com/github/rodrigocan/made-with-ml/blob/main/notebooks/01_Notebooks.ipynb\" target=\"_parent\"><img src=\"https://colab.research.google.com/assets/colab-badge.svg\" alt=\"Open In Colab\"/></a>"
      ]
    },
    {
      "cell_type": "markdown",
      "metadata": {
        "id": "n2Pg6kkssQwE"
      },
      "source": [
        "\n",
        "<div align=\"center\">\n",
        "<h1><img width=\"30\" src=\"https://madewithml.com/static/images/rounded_logo.png\">&nbsp;<a href=\"https://madewithml.com/\">Made With ML</a></h1>\n",
        "Applied ML · MLOps · Production\n",
        "<br>\n",
        "Join 30K+ developers in learning how to responsibly <a href=\"https://madewithml.com/about/\">deliver value</a> with ML.\n",
        "    <br>\n",
        "</div>\n",
        "\n",
        "<br>\n",
        "\n",
        "<div align=\"center\">\n",
        "    <a target=\"_blank\" href=\"https://madewithml.com\"><img src=\"https://img.shields.io/badge/Subscribe-30K-brightgreen\"></a>&nbsp;\n",
        "    <a target=\"_blank\" href=\"https://github.com/GokuMohandas/Made-With-ML\"><img src=\"https://img.shields.io/github/stars/GokuMohandas/Made-With-ML.svg?style=social&label=Star\"></a>&nbsp;\n",
        "    <a target=\"_blank\" href=\"https://www.linkedin.com/in/goku\"><img src=\"https://img.shields.io/badge/style--5eba00.svg?label=LinkedIn&logo=linkedin&style=social\"></a>&nbsp;\n",
        "    <a target=\"_blank\" href=\"https://twitter.com/GokuMohandas\"><img src=\"https://img.shields.io/twitter/follow/GokuMohandas.svg?label=Follow&style=social\"></a>\n",
        "    <br>\n",
        "    🔥&nbsp; Among the <a href=\"https://github.com/topics/deep-learning\" target=\"_blank\">top ML</a> repositories on GitHub\n",
        "</div>\n",
        "\n",
        "<br>\n",
        "<hr>"
      ]
    },
    {
      "cell_type": "markdown",
      "metadata": {
        "id": "pa5_r2M_ZzLG"
      },
      "source": [
        "# Notebooks\n",
        "\n",
        "Nesta aula, vamos aprender a trabalhar com notebooks."
      ]
    },
    {
      "cell_type": "markdown",
      "metadata": {
        "id": "orR8HhgnPY1U"
      },
      "source": [
        "<div align=\"left\">\n",
        "<a target=\"_blank\" href=\"https://madewithml.com/courses/foundations/notebooks/\"><img src=\"https://img.shields.io/badge/📖 Ler-post no blog-9cf\"></a>&nbsp;\n",
        "<a href=\"https://github.com/GokuMohandas/Made-With-ML/blob/main/notebooks/01_Notebooks.ipynb\" role=\"button\"><img src=\"https://img.shields.io/static/v1?label=&amp;message=Ver%20no%20GitHub&amp;color=586069&amp;logo=github&amp;labelColor=2f363d\"></a>&nbsp;\n",
        "<a href=\"https://colab.research.google.com/github/GokuMohandas/Made-With-ML/blob/main/notebooks/01_Notebooks.ipynb\"><img src=\"https://colab.research.google.com/assets/colab-badge.svg\" alt=\"Abrir no Colab\"></a>\n",
        "</div>"
      ]
    },
    {
      "cell_type": "markdown",
      "metadata": {
        "id": "-Nsq7J22UOGO"
      },
      "source": [
        "# Configuração"
      ]
    },
    {
      "cell_type": "markdown",
      "metadata": {
        "id": "G28BW1LgMZ-c"
      },
      "source": [
        "1. Clique neste link para abrir o [notebook]() que acompanha esta aula, ou crie um em branco no [Google Colab](https://colab.research.google.com/).\n",
        "2. Entre com a sua [Conta do Google](https://accounts.google.com/signin) para começar a usar o notebook. Se você não quiser salvar o seu trabalho, você pode pular as etapas abaixo. Se você não tiver acesso ao Google, você pode seguir essa aula utilizando o [Jupyter Lab](https://jupyter.org/).\n",
        "3. Se você quiser salvar o seu trabalho, vá no menu Arquivo (barra superior) e em seguida clique em **Salvar uma cópia no Drive**. Isso abrirá um novo notebook em uma nova aba. Renomeie esse novo notebook removendo as palavras Cópia de do título (mude de `Cópia de 01_Notebooks` para `01_Notebooks`).\n",
        "\n",
        "<div align=\"center\">\n",
        "<img src=\"https://madewithml.com/static/images/foundations/notebooks/copy_to_drive.png\" width=\"400\">&emsp;&emsp;<img src=\"https://madewithml.com/static/images/foundations/notebooks/rename.png\" width=\"320\">\n",
        "</div>"
      ]
    },
    {
      "cell_type": "markdown",
      "metadata": {
        "id": "cOEaLCZAu4JQ"
      },
      "source": [
        "# Tipos de células"
      ]
    },
    {
      "cell_type": "markdown",
      "metadata": {
        "id": "WcOgqq5xvtMn"
      },
      "source": [
        "Notebooks são compostos de células. Cada célula pode ser uma `célula de código` ou uma `célula de texto`.\n",
        "\n",
        "*   `célula de código`: serve para escrever e executar código.\n",
        "*   `célula de texto`: serve para escrever texto, HTML, Markdown, etc."
      ]
    },
    {
      "cell_type": "markdown",
      "metadata": {
        "id": "tBVFofpLutnn"
      },
      "source": [
        "## Criando células"
      ]
    },
    {
      "cell_type": "markdown",
      "metadata": {
        "id": "CfSTXDx9LClf"
      },
      "source": [
        "Primeiramente vamos criar uma célula de texto. Clique na localização desejada do notebook e crie a célula clicando no botão `➕ Texto` (localizado no canto superior esquerdo). \n",
        "\n",
        "<div align=\"left\">\n",
        "<img src=\"https://madewithml.com/static/images/foundations/notebooks/text_cell.png\" width=\"320\">\n",
        "</div>\n",
        "\n",
        "Com a célula criada, clique em cima dela e digite o seguinte texto:\n",
        "\n",
        "\n",
        "```\n",
        "### Isto é um cabeçalho\n",
        "Olá mundo!\n",
        "```"
      ]
    },
    {
      "cell_type": "markdown",
      "metadata": {
        "id": "2O5EqrqbWBlH"
      },
      "source": [
        "### Isto é um cabeçalho\n",
        "Olá mundo!"
      ]
    },
    {
      "cell_type": "markdown",
      "metadata": {
        "id": "iXYgZpgpYS3N"
      },
      "source": [
        "# Executando células"
      ]
    },
    {
      "cell_type": "markdown",
      "metadata": {
        "id": "8og2NZxaO7Nj"
      },
      "source": [
        "Depois de digitar na célula, pressione `Shift` + `Enter` para executá-la."
      ]
    },
    {
      "cell_type": "markdown",
      "metadata": {
        "id": "WKTbiBuvYexD"
      },
      "source": [
        "# Editando células"
      ]
    },
    {
      "cell_type": "markdown",
      "metadata": {
        "id": "J_kM3zBEO9Zp"
      },
      "source": [
        "Para editar uma célula, clique duas vezes em cima dela e em seguida faça as mudanças."
      ]
    },
    {
      "cell_type": "markdown",
      "metadata": {
        "id": "Jv0ZSuhNYVIU"
      },
      "source": [
        "# Movendo células"
      ]
    },
    {
      "cell_type": "markdown",
      "metadata": {
        "id": "pv3XtKpLPAY6"
      },
      "source": [
        "Depois de criada, a célula pode ser movida para cima ou para baixo, clicando nela e depois nos botões ⬆ e ⬇ localizados no canto superior direito da célula. \n",
        "\n",
        "<div align=\"left\">\n",
        "<img src=\"https://madewithml.com/static/images/foundations/notebooks/move_cell.png\" width=\"500\">\n",
        "</div>"
      ]
    },
    {
      "cell_type": "markdown",
      "metadata": {
        "id": "B_VGiYf8YXiU"
      },
      "source": [
        "# Apagando células"
      ]
    },
    {
      "cell_type": "markdown",
      "metadata": {
        "id": "vKrqxJEmTfQU"
      },
      "source": [
        "Você pode apagar a célula clicando nela e depois pressionado no botão de lixeira 🗑️ no topo superior direito da célula. Alternativamente, você também pode pressionar ⌘/Ctrl + M + D.\n",
        "\n",
        "<div align=\"left\">\n",
        "<img src=\"https://madewithml.com/static/images/foundations/notebooks/delete_cell.png\" width=\"500\">\n",
        "</div>"
      ]
    },
    {
      "cell_type": "markdown",
      "metadata": {
        "id": "hxl7Fk8LVQmR"
      },
      "source": [
        "# Criando uma célula de código\n"
      ]
    },
    {
      "cell_type": "markdown",
      "metadata": {
        "id": "lnvxXte0PB0p"
      },
      "source": [
        "Você pode repetir os passos acima para criar e editar uma célula de *código*. Você pode criar uma célula de código clicando em `➕ Código` (localizado no canto superior esquerdo.\n",
        "\n",
        "<div align=\"left\">\n",
        "<img src=\"https://madewithml.com/static/images/foundations/notebooks/code_cell.png\" width=\"320\">\n",
        "</div>\n",
        "\n",
        "Com a célula de código criada, clique duas vezes em cima dela, digite o conteúdo a seguir dentro e pressione `Shift + Enter` para executar o código.\n",
        "\n",
        "```\n",
        "print (\"Olá mundo!\")\n",
        "```"
      ]
    },
    {
      "cell_type": "code",
      "metadata": {
        "id": "DfGf9KmQ3DJM",
        "colab": {
          "base_uri": "https://localhost:8080/"
        },
        "outputId": "540cf3d1-b1f4-4e5a-87b2-a010c121c234"
      },
      "source": [
        "print (\"Olá mundo!\")"
      ],
      "execution_count": null,
      "outputs": [
        {
          "output_type": "stream",
          "name": "stdout",
          "text": [
            "Olá mundo!\n"
          ]
        }
      ]
    },
    {
      "cell_type": "markdown",
      "metadata": {
        "id": "r2w9xzDkuAXw"
      },
      "source": [
        "Esses são os conceitos básicos que você precisará para usar os notebooks, mas aprenderemos mais alguns truques nas próximas aulas."
      ]
    }
  ]
}