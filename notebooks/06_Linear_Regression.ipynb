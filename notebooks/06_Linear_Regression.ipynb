{
  "nbformat": 4,
  "nbformat_minor": 0,
  "metadata": {
    "colab": {
      "provenance": [],
      "toc_visible": true,
      "authorship_tag": "ABX9TyNt93pT1s+Gya6qPd9jTIcI",
      "include_colab_link": true
    },
    "kernelspec": {
      "name": "python3",
      "display_name": "Python 3"
    },
    "language_info": {
      "name": "python"
    }
  },
  "cells": [
    {
      "cell_type": "markdown",
      "metadata": {
        "id": "view-in-github",
        "colab_type": "text"
      },
      "source": [
        "<a href=\"https://colab.research.google.com/github/rodrigocan/made-with-ml/blob/main/notebooks/06_Linear_Regression.ipynb\" target=\"_parent\"><img src=\"https://colab.research.google.com/assets/colab-badge.svg\" alt=\"Open In Colab\"/></a>"
      ]
    },
    {
      "cell_type": "markdown",
      "source": [
        "# Regressão linear\n",
        "\n",
        "Nesta aula, aprenderemos sobre regressão linear. Entenderemos a matemática básica por trás desse, implementaremos o algoritmo do zero utilizando o NumPy e depois o PyTorch."
      ],
      "metadata": {
        "id": "55yCgz0CLVEK"
      }
    },
    {
      "cell_type": "markdown",
      "source": [
        "# Visão geral\n",
        "\n",
        "Nosso objetivo é aprender um modelo linear $\\hat{y}$ que modela $y$ com os dados de $X$.\n",
        "\n",
        "$\\hat{y} = XW + b$, onde:\n",
        "\n",
        "* $\\hat{y}$ = * $\\hat{y}$ = previsões | $\\in \\mathbb{R}^{NX1}$ ($N$ é o número de amostras)\n",
        "* $X$ = dados de entrada | $\\in \\mathbb{R}^{NXD}$ ($D$ é o número de variáveis)\n",
        "* $W$ = pesos | $\\in \\mathbb{R}^{DX1}$\n",
        "* $b$ = viés | $\\in \\mathbb{R}^{1}$"
      ],
      "metadata": {
        "id": "pF29DJrzMQS_"
      }
    },
    {
      "cell_type": "markdown",
      "source": [
        "- **Objetivo**: Utilizar os dados de entrada $X$ para prever a saída $\\hat{y}$ usando um modelo linear. O modelo será uma reta de melhor ajuste que minimiza a distância entre o valores previstos (saídas do modelo) e os valores alvo (valores reais). Os dados de treinamento $(X, y)$ são utilizados para treinar o modelo e aprender os pesos $W$ usando gradiente descendente.\n",
        "\n",
        "* **Vantagens**:\n",
        "\n",
        " * Computacionalmente simples.\n",
        " * Altamente interpretável.\n",
        " * Pode lidar com variáveis contínuas e categóricas.\n",
        "\n",
        "* **Desvantagens**:\n",
        "\n",
        " * O modelo funcionará bem somente quando os dados forem linearmente separáveis (para classificação).\n",
        " * Geralmente não é utilizado para classificação e apenas para regressão.\n",
        "\n",
        "* Você também pode usar o modelo de regressão linear para tarefas de classificação binária, onde se o valor predito for acima de determinado limite, pertencerá a determinada classe. Entretanto, Iremos aprender técnicas melhores de classificação nas próximas aulas e vamos focar o modelo de regressão linear para tarefas de regressão de valores contínuos somente."
      ],
      "metadata": {
        "id": "JuBiaQYWN-m5"
      }
    },
    {
      "cell_type": "markdown",
      "source": [
        "# Gerando dados\n",
        "\n",
        "Vamos gerar alguns dados fictícios simples para aplicação da regressão linear. Criaremos dados aproximadamente lineares (y = 3,5X + ruído); o ruído aleatório é adicionado para criar dados que não se alinham perfeitamente em uma reta. Nosso objetivo é fazer com que o modelo convirja para uma equação linear semelhante (haverá uma pequena variação, uma vez que adicionamos o ruído)."
      ],
      "metadata": {
        "id": "jSAb5TOBTCFV"
      }
    },
    {
      "cell_type": "code",
      "source": [
        "import numpy as np\n",
        "import pandas as pd\n",
        "import matplotlib.pyplot as plt"
      ],
      "metadata": {
        "id": "xSTp0hxgUJhU"
      },
      "execution_count": 236,
      "outputs": []
    },
    {
      "cell_type": "code",
      "source": [
        "SEED = 1234\n",
        "NUM_SAMPLES = 50"
      ],
      "metadata": {
        "id": "DGkm60haUY3Q"
      },
      "execution_count": 237,
      "outputs": []
    },
    {
      "cell_type": "code",
      "source": [
        "# Definindo um seed, para que seja possível reproduzir os resultados em outro ambiente\n",
        "np.random.seed(SEED)"
      ],
      "metadata": {
        "id": "yUiidrcfUcRG"
      },
      "execution_count": 238,
      "outputs": []
    },
    {
      "cell_type": "code",
      "source": [
        "# Gerando dados fictícios aleatórios\n",
        "def generate_data(num_samples):\n",
        "  \"\"\"\"Gerando dados fictícios aleatórios para regressão linear\"\"\"\n",
        "  X = np.array(range(num_samples))\n",
        "  random_noise = np.random.uniform(-10,20,size=num_samples)\n",
        "  y = 3.5*X + random_noise # add some noise\n",
        "  return X, y"
      ],
      "metadata": {
        "id": "fzS1S-qTUlbF"
      },
      "execution_count": 239,
      "outputs": []
    },
    {
      "cell_type": "code",
      "source": [
        "# Gerando dados lineares aleatórios\n",
        "X, y = generate_data(num_samples=NUM_SAMPLES)\n",
        "data = np.vstack([X, y]).T\n",
        "print (data[:5])"
      ],
      "metadata": {
        "colab": {
          "base_uri": "https://localhost:8080/"
        },
        "id": "NfnZIn1OVHqH",
        "outputId": "9c684e6a-da9a-4a0a-8f25-2e58e4a44a67"
      },
      "execution_count": 240,
      "outputs": [
        {
          "output_type": "stream",
          "name": "stdout",
          "text": [
            "[[ 0.         -4.25441649]\n",
            " [ 1.         12.16326313]\n",
            " [ 2.         10.13183217]\n",
            " [ 3.         24.06075751]\n",
            " [ 4.         27.39927424]]\n"
          ]
        }
      ]
    },
    {
      "cell_type": "code",
      "source": [
        "# Carregando os dados dentro de um dataframe do Pandas\n",
        "df = pd.DataFrame(data, columns=[\"X\", \"y\"])\n",
        "X = df[[\"X\"]].values\n",
        "y = df[[\"y\"]].values\n",
        "df.head()"
      ],
      "metadata": {
        "colab": {
          "base_uri": "https://localhost:8080/",
          "height": 206
        },
        "id": "cI9cGb8wjWvI",
        "outputId": "9b475d1a-2e39-4c15-a8e4-41325d0599c8"
      },
      "execution_count": 241,
      "outputs": [
        {
          "output_type": "execute_result",
          "data": {
            "text/plain": [
              "     X          y\n",
              "0  0.0  -4.254416\n",
              "1  1.0  12.163263\n",
              "2  2.0  10.131832\n",
              "3  3.0  24.060758\n",
              "4  4.0  27.399274"
            ],
            "text/html": [
              "\n",
              "  <div id=\"df-94652cb2-5611-4d96-86d5-e88c904653e0\">\n",
              "    <div class=\"colab-df-container\">\n",
              "      <div>\n",
              "<style scoped>\n",
              "    .dataframe tbody tr th:only-of-type {\n",
              "        vertical-align: middle;\n",
              "    }\n",
              "\n",
              "    .dataframe tbody tr th {\n",
              "        vertical-align: top;\n",
              "    }\n",
              "\n",
              "    .dataframe thead th {\n",
              "        text-align: right;\n",
              "    }\n",
              "</style>\n",
              "<table border=\"1\" class=\"dataframe\">\n",
              "  <thead>\n",
              "    <tr style=\"text-align: right;\">\n",
              "      <th></th>\n",
              "      <th>X</th>\n",
              "      <th>y</th>\n",
              "    </tr>\n",
              "  </thead>\n",
              "  <tbody>\n",
              "    <tr>\n",
              "      <th>0</th>\n",
              "      <td>0.0</td>\n",
              "      <td>-4.254416</td>\n",
              "    </tr>\n",
              "    <tr>\n",
              "      <th>1</th>\n",
              "      <td>1.0</td>\n",
              "      <td>12.163263</td>\n",
              "    </tr>\n",
              "    <tr>\n",
              "      <th>2</th>\n",
              "      <td>2.0</td>\n",
              "      <td>10.131832</td>\n",
              "    </tr>\n",
              "    <tr>\n",
              "      <th>3</th>\n",
              "      <td>3.0</td>\n",
              "      <td>24.060758</td>\n",
              "    </tr>\n",
              "    <tr>\n",
              "      <th>4</th>\n",
              "      <td>4.0</td>\n",
              "      <td>27.399274</td>\n",
              "    </tr>\n",
              "  </tbody>\n",
              "</table>\n",
              "</div>\n",
              "      <button class=\"colab-df-convert\" onclick=\"convertToInteractive('df-94652cb2-5611-4d96-86d5-e88c904653e0')\"\n",
              "              title=\"Convert this dataframe to an interactive table.\"\n",
              "              style=\"display:none;\">\n",
              "        \n",
              "  <svg xmlns=\"http://www.w3.org/2000/svg\" height=\"24px\"viewBox=\"0 0 24 24\"\n",
              "       width=\"24px\">\n",
              "    <path d=\"M0 0h24v24H0V0z\" fill=\"none\"/>\n",
              "    <path d=\"M18.56 5.44l.94 2.06.94-2.06 2.06-.94-2.06-.94-.94-2.06-.94 2.06-2.06.94zm-11 1L8.5 8.5l.94-2.06 2.06-.94-2.06-.94L8.5 2.5l-.94 2.06-2.06.94zm10 10l.94 2.06.94-2.06 2.06-.94-2.06-.94-.94-2.06-.94 2.06-2.06.94z\"/><path d=\"M17.41 7.96l-1.37-1.37c-.4-.4-.92-.59-1.43-.59-.52 0-1.04.2-1.43.59L10.3 9.45l-7.72 7.72c-.78.78-.78 2.05 0 2.83L4 21.41c.39.39.9.59 1.41.59.51 0 1.02-.2 1.41-.59l7.78-7.78 2.81-2.81c.8-.78.8-2.07 0-2.86zM5.41 20L4 18.59l7.72-7.72 1.47 1.35L5.41 20z\"/>\n",
              "  </svg>\n",
              "      </button>\n",
              "      \n",
              "  <style>\n",
              "    .colab-df-container {\n",
              "      display:flex;\n",
              "      flex-wrap:wrap;\n",
              "      gap: 12px;\n",
              "    }\n",
              "\n",
              "    .colab-df-convert {\n",
              "      background-color: #E8F0FE;\n",
              "      border: none;\n",
              "      border-radius: 50%;\n",
              "      cursor: pointer;\n",
              "      display: none;\n",
              "      fill: #1967D2;\n",
              "      height: 32px;\n",
              "      padding: 0 0 0 0;\n",
              "      width: 32px;\n",
              "    }\n",
              "\n",
              "    .colab-df-convert:hover {\n",
              "      background-color: #E2EBFA;\n",
              "      box-shadow: 0px 1px 2px rgba(60, 64, 67, 0.3), 0px 1px 3px 1px rgba(60, 64, 67, 0.15);\n",
              "      fill: #174EA6;\n",
              "    }\n",
              "\n",
              "    [theme=dark] .colab-df-convert {\n",
              "      background-color: #3B4455;\n",
              "      fill: #D2E3FC;\n",
              "    }\n",
              "\n",
              "    [theme=dark] .colab-df-convert:hover {\n",
              "      background-color: #434B5C;\n",
              "      box-shadow: 0px 1px 3px 1px rgba(0, 0, 0, 0.15);\n",
              "      filter: drop-shadow(0px 1px 2px rgba(0, 0, 0, 0.3));\n",
              "      fill: #FFFFFF;\n",
              "    }\n",
              "  </style>\n",
              "\n",
              "      <script>\n",
              "        const buttonEl =\n",
              "          document.querySelector('#df-94652cb2-5611-4d96-86d5-e88c904653e0 button.colab-df-convert');\n",
              "        buttonEl.style.display =\n",
              "          google.colab.kernel.accessAllowed ? 'block' : 'none';\n",
              "\n",
              "        async function convertToInteractive(key) {\n",
              "          const element = document.querySelector('#df-94652cb2-5611-4d96-86d5-e88c904653e0');\n",
              "          const dataTable =\n",
              "            await google.colab.kernel.invokeFunction('convertToInteractive',\n",
              "                                                     [key], {});\n",
              "          if (!dataTable) return;\n",
              "\n",
              "          const docLinkHtml = 'Like what you see? Visit the ' +\n",
              "            '<a target=\"_blank\" href=https://colab.research.google.com/notebooks/data_table.ipynb>data table notebook</a>'\n",
              "            + ' to learn more about interactive tables.';\n",
              "          element.innerHTML = '';\n",
              "          dataTable['output_type'] = 'display_data';\n",
              "          await google.colab.output.renderOutput(dataTable, element);\n",
              "          const docLink = document.createElement('div');\n",
              "          docLink.innerHTML = docLinkHtml;\n",
              "          element.appendChild(docLink);\n",
              "        }\n",
              "      </script>\n",
              "    </div>\n",
              "  </div>\n",
              "  "
            ]
          },
          "metadata": {},
          "execution_count": 241
        }
      ]
    },
    {
      "cell_type": "code",
      "source": [
        "# Gráfico de dispersão\n",
        "plt.title(\"Generated data\")\n",
        "plt.scatter(x=df[\"X\"], y=df[\"y\"])\n",
        "plt.show()"
      ],
      "metadata": {
        "colab": {
          "base_uri": "https://localhost:8080/",
          "height": 281
        },
        "id": "-TgFd-hfjpYN",
        "outputId": "7fb393b2-ac4e-4d72-c60f-f2e0a44fbd8b"
      },
      "execution_count": 242,
      "outputs": [
        {
          "output_type": "display_data",
          "data": {
            "text/plain": [
              "<Figure size 432x288 with 1 Axes>"
            ],
            "image/png": "[encoded data removed]"
          },
          "metadata": {
            "needs_background": "light"
          }
        }
      ]
    },
    {
      "cell_type": "markdown",
      "source": [
        "# NumPy"
      ],
      "metadata": {
        "id": "kXStgdgbj7Jy"
      }
    },
    {
      "cell_type": "markdown",
      "source": [
        "Agora que preparamos nossos dados, vamos primeiro implementar a regressão linear usando apenas o NumPy. Isso nos permitirá entender as operações que estão por trás do modelo."
      ],
      "metadata": {
        "id": "oizgIc3SkPgj"
      }
    },
    {
      "cell_type": "markdown",
      "source": [
        "## Divisão dos dados\n",
        "\n",
        "Dividiremos aleatoriamente nosso conjunto de dados em outros três conjuntos: treinamento, validação e teste.\n",
        "\n",
        "* `train`: usado para treinar nosso modelo.\n",
        "* `val`: usado para validar o desempenho do nosso modelo durante o treinamento.\n",
        "* `test`: usado para avaliação do nosso modelo treinado."
      ],
      "metadata": {
        "id": "Y1XRlNL-kQJV"
      }
    },
    {
      "cell_type": "code",
      "source": [
        "TRAIN_SIZE = 0.7\n",
        "VAL_SIZE = 0.15\n",
        "TEST_SIZE = 0.15"
      ],
      "metadata": {
        "id": "2vCn9p0ElA1g"
      },
      "execution_count": 243,
      "outputs": []
    },
    {
      "cell_type": "code",
      "source": [
        "# Embaralhando os dados\n",
        "indices = list(range(NUM_SAMPLES))\n",
        "np.random.shuffle(indices)\n",
        "X = X[indices]\n",
        "y = y[indices]"
      ],
      "metadata": {
        "id": "XjY3kHY_lLpL"
      },
      "execution_count": 244,
      "outputs": []
    },
    {
      "cell_type": "markdown",
      "source": [
        "> Tome cuidado para não embaralhar X e y separadamente, pois assim os dados de entrada não corresponderão aos dados de saída!"
      ],
      "metadata": {
        "id": "UQEc1sctlacL"
      }
    },
    {
      "cell_type": "code",
      "source": [
        "# Dividindo os índices\n",
        "train_start = 0\n",
        "train_end = int(0.7*NUM_SAMPLES)\n",
        "val_start = train_end\n",
        "val_end = int((TRAIN_SIZE+VAL_SIZE)*NUM_SAMPLES)\n",
        "test_start = val_end"
      ],
      "metadata": {
        "id": "pXRl6tgDlo6S"
      },
      "execution_count": 245,
      "outputs": []
    },
    {
      "cell_type": "code",
      "source": [
        "# Dividindo os dados\n",
        "X_train = X[train_start:train_end]\n",
        "y_train = y[train_start:train_end]\n",
        "X_val = X[val_start:val_end]\n",
        "y_val = y[val_start:val_end]\n",
        "X_test = X[test_start:]\n",
        "y_test = y[test_start:]\n",
        "print (f\"X_train: {X_train.shape}, y_train: {y_train.shape}\")\n",
        "print (f\"X_val: {X_val.shape}, y_val: {y_val.shape}\")\n",
        "print (f\"X_test: {X_test.shape}, y_test: {y_test.shape}\")"
      ],
      "metadata": {
        "colab": {
          "base_uri": "https://localhost:8080/"
        },
        "id": "-fX3ToWXmM1M",
        "outputId": "2e91a7af-0ad6-4a70-d61c-c22c13a72051"
      },
      "execution_count": 246,
      "outputs": [
        {
          "output_type": "stream",
          "name": "stdout",
          "text": [
            "X_train: (35, 1), y_train: (35, 1)\n",
            "X_val: (7, 1), y_val: (7, 1)\n",
            "X_test: (8, 1), y_test: (8, 1)\n"
          ]
        }
      ]
    },
    {
      "cell_type": "markdown",
      "source": [
        "## Padronizando os dados"
      ],
      "metadata": {
        "id": "zzV_S2YkqxYI"
      }
    },
    {
      "cell_type": "markdown",
      "source": [
        "Precisamos padronizar nossos dados (média zero e variância 1). Dessa forma, a magnitude de uma variável não vai afetar no modo como o modelo aprende os pesos. Faremos isso com o z-score:\n",
        "\n",
        "$z = \\frac{x_i - \\mu}{\\sigma}$, onde:\n",
        "\n",
        "* $z$ = valor padronizado\n",
        "* $x_i$ = dados de entrada\n",
        "* $\\mu$ = média\n",
        "* $\\sigma$ = desvio-padrão"
      ],
      "metadata": {
        "id": "m-syYWzyq698"
      }
    },
    {
      "cell_type": "code",
      "source": [
        "def standardize_data(data, mean, std):\n",
        "    return (data - mean)/std"
      ],
      "metadata": {
        "id": "4v36Mv4dr5pW"
      },
      "execution_count": 247,
      "outputs": []
    },
    {
      "cell_type": "code",
      "source": [
        "# Calculando médias e desvios-padrão\n",
        "X_mean = np.mean(X_train)\n",
        "X_std = np.std(X_train)\n",
        "y_mean = np.mean(y_train)\n",
        "y_std = np.std(y_train)"
      ],
      "metadata": {
        "id": "AijS41p6sHcG"
      },
      "execution_count": 248,
      "outputs": []
    },
    {
      "cell_type": "markdown",
      "source": [
        "Precisamos tratar os conjuntos de validação e teste como se fossem conjuntos de dados ocultos. Assim, usamos apenas o conjunto de treinamento para determinar a média e o desvio-padrão, evitando o enviesamento do nosso processo de treinamento."
      ],
      "metadata": {
        "id": "Oe5opsh4sV_Y"
      }
    },
    {
      "cell_type": "code",
      "source": [
        "# Padronizando\n",
        "X_train = standardize_data(X_train, X_mean, X_std)\n",
        "y_train = standardize_data(y_train, y_mean, y_std)\n",
        "X_val = standardize_data(X_val, X_mean, X_std)\n",
        "y_val = standardize_data(y_val, y_mean, y_std)\n",
        "X_test = standardize_data(X_test, X_mean, X_std)\n",
        "y_test = standardize_data(y_test, y_mean, y_std)"
      ],
      "metadata": {
        "id": "rRiitjggst8a"
      },
      "execution_count": 249,
      "outputs": []
    },
    {
      "cell_type": "code",
      "source": [
        "# Checando\n",
        "print (f\"mean: {np.mean(X_test, axis=0)[0]:.1f}, std: {np.std(X_test, axis=0)[0]:.1f}\")\n",
        "print (f\"mean: {np.mean(y_test, axis=0)[0]:.1f}, std: {np.std(y_test, axis=0)[0]:.1f}\")"
      ],
      "metadata": {
        "colab": {
          "base_uri": "https://localhost:8080/"
        },
        "id": "PTVpGL9ztXTD",
        "outputId": "5df820f7-6a64-49ad-a619-2a757d9739c7"
      },
      "execution_count": 250,
      "outputs": [
        {
          "output_type": "stream",
          "name": "stdout",
          "text": [
            "mean: -0.6, std: 0.9\n",
            "mean: -0.6, std: 0.9\n"
          ]
        }
      ]
    },
    {
      "cell_type": "markdown",
      "source": [
        "## Pesos"
      ],
      "metadata": {
        "id": "KK_E5DRJyEPz"
      }
    },
    {
      "cell_type": "markdown",
      "source": [
        "Nosso objetivo é aprender um modelo linear $\\hat{y}$ que modela $y$ dado que $X$.\n",
        "\n",
        "$\\hat{y} = XW + b$\n",
        "* $\\hat{y}$ = previsões | $\\in \\mathbb{R}^{NX1}$ ($N$ é o número de amostras)\n",
        "* $X$ = dados de entrada | $\\in \\mathbb{R}^{NXD}$ ($D$ é o número de variáveis)\n",
        "* $W$ = pesos | $\\in \\mathbb{R}^{DX1}$ \n",
        "* $b$ = viés | $\\in \\mathbb{R}^{1}$ "
      ],
      "metadata": {
        "id": "xHPswxdMyGnb"
      }
    },
    {
      "cell_type": "markdown",
      "source": [
        "1. Iniciando os pesos $W$ com valores aleatórios."
      ],
      "metadata": {
        "id": "qcCEThKQy6TN"
      }
    },
    {
      "cell_type": "code",
      "source": [
        "INPUT_DIM = X_train.shape[1] # X é unidimensional\n",
        "OUTPUT_DIM = y_train.shape[1] # y é unidimensional"
      ],
      "metadata": {
        "id": "Sl_i2NaOzELj"
      },
      "execution_count": 251,
      "outputs": []
    },
    {
      "cell_type": "code",
      "source": [
        "# Iniciando os pesos com valores aleatórios\n",
        "W = 0.01 * np.random.randn(INPUT_DIM, OUTPUT_DIM)\n",
        "b = np.zeros((1, 1))\n",
        "print (f\"W: {W.shape}\")\n",
        "print (f\"b: {b.shape}\")"
      ],
      "metadata": {
        "colab": {
          "base_uri": "https://localhost:8080/"
        },
        "id": "zGHfh5LXzZOo",
        "outputId": "83547359-565d-4979-8efe-b6559a5bfdac"
      },
      "execution_count": 252,
      "outputs": [
        {
          "output_type": "stream",
          "name": "stdout",
          "text": [
            "W: (1, 1)\n",
            "b: (1, 1)\n"
          ]
        }
      ]
    },
    {
      "cell_type": "markdown",
      "source": [
        "## Modelo"
      ],
      "metadata": {
        "id": "3c2J25zbzvj9"
      }
    },
    {
      "cell_type": "markdown",
      "source": [
        "2. Alimentando o modelo com os dados de entrada $X$ para receber as previsões $\\hat{y}$.\n",
        "  * $\\hat{y} = XW + b$"
      ],
      "metadata": {
        "id": "52IJmaatz0sr"
      }
    },
    {
      "cell_type": "code",
      "source": [
        "# Forward pass [N x 1] . [1 x 1] = [N x 1]\n",
        "y_pred = np.dot(X_train, W) + b\n",
        "print (f\"y_pred: {y_pred.shape}\")"
      ],
      "metadata": {
        "colab": {
          "base_uri": "https://localhost:8080/"
        },
        "id": "I82OncyG0e_y",
        "outputId": "f5678d2d-60d3-4305-d394-32266a4e8f99"
      },
      "execution_count": 253,
      "outputs": [
        {
          "output_type": "stream",
          "name": "stdout",
          "text": [
            "y_pred: (35, 1)\n"
          ]
        }
      ]
    },
    {
      "cell_type": "markdown",
      "source": [
        "## Perda"
      ],
      "metadata": {
        "id": "WeW5z70935Bk"
      }
    },
    {
      "cell_type": "markdown",
      "source": [
        "3. Agora vamos comparar as previsões $\\hat{y}$ com os valores-alvo verdadeiros $y$ usando a função objetivo para determinar a perda $J$. Uma função objetivo comum para a regressão linear é o erro quadrático médio (MSE). Esta função calcula a diferença entre os valores preditos e alvo e a eleva ao quadrado.\n",
        "\n",
        "* $ J(\\theta) = \\frac{1}{N} \\sum_i (y_i - \\hat{y}_i)^2  = \\frac{1}{N}\\sum_i (y_i - X_iW)^2 $, onde:\n",
        "    * ${y}$ = valores-alvo (verdadeiros) | $\\in \\mathbb{R}^{NX1}$\n",
        "    * $\\hat{y}$ = valores preditos | $\\in \\mathbb{R}^{NX1}$\n",
        "    * termo do viés ($b$) - omitido para a equação não ficar muito grande"
      ],
      "metadata": {
        "id": "ys9b8OW21MEg"
      }
    },
    {
      "cell_type": "code",
      "source": [
        "# Loss\n",
        "N = len(y_train)\n",
        "loss = (1/N) * np.sum((y_train - y_pred)**2)\n",
        "print (f\"loss: {loss:.2f}\")"
      ],
      "metadata": {
        "colab": {
          "base_uri": "https://localhost:8080/"
        },
        "id": "6oKX0R_Y2Acl",
        "outputId": "2f7e395b-3e48-4777-85bc-f153889c7a1e"
      },
      "execution_count": 254,
      "outputs": [
        {
          "output_type": "stream",
          "name": "stdout",
          "text": [
            "loss: 0.99\n"
          ]
        }
      ]
    },
    {
      "cell_type": "markdown",
      "source": [
        "## Gradientes"
      ],
      "metadata": {
        "id": "5W75pKEL3-Aw"
      }
    },
    {
      "cell_type": "markdown",
      "source": [
        "4. Calculando os gradientes da perda $J(\\theta)$ com os pesos do modelo.\n",
        "  * $\\frac{\\partial{J}}{\\partial{W}} = -\\frac{2}{N} \\sum_i (y_i - X_iW) X_i = -\\frac{2}{N} \\sum_i (y_i - \\hat{y}_i) X_i$\n",
        "  * $\\frac{\\partial{J}}{\\partial{b}} = -\\frac{2}{N} \\sum_i (y_i - X_iW)1 = -\\frac{2}{N} \\sum_i (y_i - \\hat{y}_i)1$"
      ],
      "metadata": {
        "id": "DB-JwZgJTwGM"
      }
    },
    {
      "cell_type": "code",
      "source": [
        "# Backpropagation\n",
        "dW = -(2/N) * np.sum((y_train - y_pred) * X_train)\n",
        "db = -(2/N) * np.sum((y_train - y_pred) * 1)"
      ],
      "metadata": {
        "id": "0BM9TT1nVzZr"
      },
      "execution_count": 255,
      "outputs": []
    },
    {
      "cell_type": "markdown",
      "source": [
        "> O gradiente é a derivada (a taxa de variação de uma função). É o vetor que apontar na direção de maior crescimento da função. No caso em análise, o gradiente da nossa função de perda ($J$) com relação aos pesos ($W$) nos dirá como mudar W para maximizar ($J$). No entanto, queremos minimizar a nossa perda. Dessa forma, subtraímos o gradiente de $W$."
      ],
      "metadata": {
        "id": "tGOWiu1xUJ_Q"
      }
    },
    {
      "cell_type": "markdown",
      "source": [
        "## Atualizando os pesos"
      ],
      "metadata": {
        "id": "Q1LexdZHVNEl"
      }
    },
    {
      "cell_type": "markdown",
      "source": [
        "5. Atualizando os pesos $W$ usando uma pequena taxa de aprendizado $\\alpha$.\n",
        "\n",
        "  * $W = W - \\alpha\\frac{\\partial{J}}{\\partial{W}}$\n",
        "  * $b = b - \\alpha\\frac{\\partial{J}}{\\partial{b}}$"
      ],
      "metadata": {
        "id": "9CvyuD1TVRdd"
      }
    },
    {
      "cell_type": "code",
      "source": [
        "LEARNING_RATE = 1e-1"
      ],
      "metadata": {
        "id": "wvo7OyGwWLOH"
      },
      "execution_count": 256,
      "outputs": []
    },
    {
      "cell_type": "code",
      "source": [
        "# Atualizando os pesos\n",
        "W += -LEARNING_RATE * dW\n",
        "b += -LEARNING_RATE * db"
      ],
      "metadata": {
        "id": "QZKpXe0sWN9g"
      },
      "execution_count": 257,
      "outputs": []
    },
    {
      "cell_type": "markdown",
      "source": [
        "> A taxa de aprendizado $\\alpha$ é uma forma de controlar o quanto atualizamos os pesos. Se escolhermos uma taxa de aprendizado pequena, nosso modelo pode demorar muito para ser treinado. Por outro lado, se escolhermos uma taxa de aprendizado grande, podemos ultrapassar e nosso treinameno nunca irá convergir. A especificação da taxa de aprendizado depende de nossos dados e do tipo de modelos que usamos, mas normalmente é bom adotar algo no intervalo de $[1e^{-8}, 1e^{-1}]$. Vamos explorar estratégias de atualização da taxa de aprendizado em lições posteriores."
      ],
      "metadata": {
        "id": "6ckvMQHTWZaq"
      }
    },
    {
      "cell_type": "markdown",
      "source": [
        "## Treinamento"
      ],
      "metadata": {
        "id": "k8wPwHSwYAnZ"
      }
    },
    {
      "cell_type": "markdown",
      "source": [
        "6. Repetindo os passos 2 - 5 para minimizar a perda e treinar o modelo."
      ],
      "metadata": {
        "id": "uCsFt6N7YDwN"
      }
    },
    {
      "cell_type": "code",
      "source": [
        "NUM_EPOCHS = 100"
      ],
      "metadata": {
        "id": "4uIhmLM5YJcP"
      },
      "execution_count": 258,
      "outputs": []
    },
    {
      "cell_type": "code",
      "source": [
        "# Inicializando com pesos aleatórios\n",
        "W = 0.01 * np.random.randn(INPUT_DIM, OUTPUT_DIM)\n",
        "b = np.zeros((1, ))\n",
        "\n",
        "# Loop de treinamento\n",
        "for epoch_num in range(NUM_EPOCHS):\n",
        "\n",
        "  # Forward pass [N x 1] . [1 x 1] = [N x 1]\n",
        "  y_pred = np.dot(X_train, W) + b\n",
        "\n",
        "  # Perda\n",
        "  loss = (1/len(y_train)) * np.sum((y_train - y_pred)**2)\n",
        "\n",
        "  # Mostrando progresso\n",
        "  if epoch_num%10 == 0:\n",
        "      print (f\"Epoch: {epoch_num}, loss: {loss:.3f}\")\n",
        "\n",
        "  # Backpropagation\n",
        "  dW = -(2/N) * np.sum((y_train - y_pred) * X_train)\n",
        "  db = -(2/N) * np.sum((y_train - y_pred) * 1)\n",
        "\n",
        "  # Atualizando os pesos\n",
        "  W += -LEARNING_RATE * dW\n",
        "  b += -LEARNING_RATE * db"
      ],
      "metadata": {
        "colab": {
          "base_uri": "https://localhost:8080/"
        },
        "id": "5IvEJVtfYM2b",
        "outputId": "968f725e-443f-47af-ac6e-4f5ef945f09c"
      },
      "execution_count": 259,
      "outputs": [
        {
          "output_type": "stream",
          "name": "stdout",
          "text": [
            "Epoch: 0, loss: 0.990\n",
            "Epoch: 10, loss: 0.039\n",
            "Epoch: 20, loss: 0.028\n",
            "Epoch: 30, loss: 0.028\n",
            "Epoch: 40, loss: 0.028\n",
            "Epoch: 50, loss: 0.028\n",
            "Epoch: 60, loss: 0.028\n",
            "Epoch: 70, loss: 0.028\n",
            "Epoch: 80, loss: 0.028\n",
            "Epoch: 90, loss: 0.028\n"
          ]
        }
      ]
    },
    {
      "cell_type": "markdown",
      "source": [
        "## Avaliação"
      ],
      "metadata": {
        "id": "y99T3G2vbnuM"
      }
    },
    {
      "cell_type": "code",
      "source": [
        "# Previsões\n",
        "pred_train = W * X_train + b\n",
        "pred_test = W * X_test + b\n",
        "\n",
        "# Erro quadrático médio (MSE) dos dados de treinamento e teste\n",
        "train_mse = np.mean((y_train - pred_train) ** 2)\n",
        "test_mse = np.mean((y_test - pred_test) ** 2)\n",
        "print(f\"train_MSE: {train_mse:.2f}, test_MSE: {test_mse:.2f}\")"
      ],
      "metadata": {
        "colab": {
          "base_uri": "https://localhost:8080/"
        },
        "id": "9kkrhzQObprB",
        "outputId": "9eb6e2c3-94f6-4e96-af27-adeb97b3e06e"
      },
      "execution_count": 260,
      "outputs": [
        {
          "output_type": "stream",
          "name": "stdout",
          "text": [
            "train_MSE: 0.03, test_MSE: 0.01\n"
          ]
        }
      ]
    },
    {
      "cell_type": "code",
      "source": [
        "# Tamanho do gráfico\n",
        "plt.figure(figsize = (15, 5))\n",
        "\n",
        "# Plotando dados de treinamento\n",
        "plt.subplot(1, 2, 1)\n",
        "plt.title(\"Dados de treinamento\")\n",
        "plt.scatter(X_train, y_train, label = \"y_train\")\n",
        "plt.plot(X_train, pred_train, color = \"red\", linewidth = 1, linestyle = \"-\", label = \"model\")\n",
        "plt.legend(loc = \"lower right\")\n",
        "\n",
        "# Plotando dados de teste\n",
        "plt.subplot(1, 2, 2)\n",
        "plt.title(\"Dados de teste\")\n",
        "plt.scatter(X_test, y_test, label = \"y_test\")\n",
        "plt.plot(X_test, pred_test, color = \"red\", linewidth = 1, linestyle = \"-\", label = \"model\")\n",
        "plt.legend(loc = \"lower right\")"
      ],
      "metadata": {
        "colab": {
          "base_uri": "https://localhost:8080/",
          "height": 344
        },
        "id": "5MdYxeeZhZru",
        "outputId": "6f7b9107-9d5f-4bcc-f1fa-c8950b4553fd"
      },
      "execution_count": 261,
      "outputs": [
        {
          "output_type": "execute_result",
          "data": {
            "text/plain": [
              "<matplotlib.legend.Legend at 0x7f6520245310>"
            ]
          },
          "metadata": {},
          "execution_count": 261
        },
        {
          "output_type": "display_data",
          "data": {
            "text/plain": [
              "<Figure size 1080x360 with 2 Axes>"
            ],
            "image/png": "[encoded data removed]"
          },
          "metadata": {
            "needs_background": "light"
          }
        }
      ]
    },
    {
      "cell_type": "markdown",
      "source": [
        "## Interpretabilidade\n",
        "\n",
        "Uma vez que nós padronizamos nossos dados de entrada e saída, nossos pesos se ajustaram a esses valores padronizados. Dessa forma, precisamos \"despadronizar\" nossos pesos para poder compará-los com os valores reais (3,5).\n",
        "\n",
        "Note que tanto X quanto y foram padronizados.\n",
        "\n",
        "$\\hat{y}_{scaled} = b_{scaled} + \\sum_{j=1}^{k}W_{{scaled}_j}x_{{scaled}_j}$\n",
        "* $y_{scaled} = \\frac{\\hat{y} - \\bar{y}}{\\sigma_y}$\n",
        "* $x_{scaled} = \\frac{x_j - \\bar{x}_j}{\\sigma_j}$\n",
        "\n",
        "$\\frac{\\hat{y} - \\bar{y}}{\\sigma_y} = b_{scaled} + \\sum_{j=1}^{k}W_{{scaled}_j}\\frac{x_j - \\bar{x}_j}{\\sigma_j}$\n",
        "\n",
        "$ \\hat{y}_{scaled} = \\frac{\\hat{y}_{unscaled} - \\bar{y}}{\\sigma_y} = {b_{scaled}} + \\sum_{j=1}^{k} {W}_{{scaled}_j} (\\frac{x_j - \\bar{x}_j}{\\sigma_j}) $\n",
        "\n",
        "$\\hat{y}_{unscaled} = b_{scaled}\\sigma_y + \\bar{y} - \\sum_{j=1}^{k} {W}_{{scaled}_j}(\\frac{\\sigma_y}{\\sigma_j})\\bar{x}_j + \\sum_{j=1}^{k}{W}_{{scaled}_j}(\\frac{\\sigma_y}{\\sigma_j})x_j $\n",
        "\n",
        "In the expression above, we can see the expression $\\hat{y}_{unscaled} = W_{unscaled}x + b_{unscaled} $ where\n",
        "\n",
        "* $W_{unscaled} = \\sum_{j=1}^{k}{W}_j(\\frac{\\sigma_y}{\\sigma_j}) $\n",
        "\n",
        "* $b_{unscaled} = b_{scaled}\\sigma_y + \\bar{y} - \\sum_{j=1}^{k} {W}_j(\\frac{\\sigma_y}{\\sigma_j})\\bar{x}_j$"
      ],
      "metadata": {
        "id": "Mh-c1ug1iXUK"
      }
    },
    {
      "cell_type": "code",
      "source": [
        "# Pesos não padronizados\n",
        "W_unscaled = W * (y_std / X_std)\n",
        "b_unscaled = b * y_std + y_mean - np.sum(W_unscaled * X_mean)\n",
        "print(\"[actual] y = 3.5X + noise\")\n",
        "print(f\"[model] y_hat = {W_unscaled[0][0]:.1f}X + {b_unscaled[0]:.1f}\")"
      ],
      "metadata": {
        "colab": {
          "base_uri": "https://localhost:8080/"
        },
        "id": "IucmX1n0jCkY",
        "outputId": "1e1610a3-ac5d-4edb-d261-88a2260c26da"
      },
      "execution_count": 262,
      "outputs": [
        {
          "output_type": "stream",
          "name": "stdout",
          "text": [
            "[actual] y = 3.5X + noise\n",
            "[model] y_hat = 3.4X + 7.8\n"
          ]
        }
      ]
    },
    {
      "cell_type": "markdown",
      "source": [
        "# PyTorch"
      ],
      "metadata": {
        "id": "QVB3znNCpVUh"
      }
    },
    {
      "cell_type": "markdown",
      "source": [
        "Agora que implementamos a regressão linear com o NumPy, vamos fazer o mesmo com o PyTorch."
      ],
      "metadata": {
        "id": "3hRAfUPhpjC2"
      }
    },
    {
      "cell_type": "code",
      "source": [
        "import torch"
      ],
      "metadata": {
        "id": "lgVFTfmvpqa6"
      },
      "execution_count": 263,
      "outputs": []
    },
    {
      "cell_type": "code",
      "source": [
        "# Definindo um seed, para que seja possível reproduzir os resultados em outro ambiente\n",
        "torch.manual_seed(SEED)"
      ],
      "metadata": {
        "colab": {
          "base_uri": "https://localhost:8080/"
        },
        "id": "vuxwjw0AptVh",
        "outputId": "ac51b4d3-6682-426a-ffe8-48ffef030602"
      },
      "execution_count": 264,
      "outputs": [
        {
          "output_type": "execute_result",
          "data": {
            "text/plain": [
              "<torch._C.Generator at 0x7f652ce69fb0>"
            ]
          },
          "metadata": {},
          "execution_count": 264
        }
      ]
    },
    {
      "cell_type": "markdown",
      "source": [
        "## Divisão dos dados"
      ],
      "metadata": {
        "id": "yq0FRnSep6oh"
      }
    },
    {
      "cell_type": "markdown",
      "source": [
        "Dessa vez, ao invés de dividirmos os dados usando índices, vamos usar a função `train_test_split` do scikit-learn. Essa função vai dividir um conjunto de dados em 2 subconjuntos, então vamos usá-la duas vezes para criar nossos três conjuntos de dados."
      ],
      "metadata": {
        "id": "mHWRc8TzqXo5"
      }
    },
    {
      "cell_type": "code",
      "source": [
        "from sklearn.model_selection import train_test_split"
      ],
      "metadata": {
        "id": "baRKHYzj-V3d"
      },
      "execution_count": 265,
      "outputs": []
    },
    {
      "cell_type": "code",
      "source": [
        "TRAIN_SIZE = 0.7\n",
        "VAL_SIZE = 0.15\n",
        "TEST_SIZE = 0.15"
      ],
      "metadata": {
        "id": "ZcZ8bgYy-i39"
      },
      "execution_count": 266,
      "outputs": []
    },
    {
      "cell_type": "code",
      "source": [
        "# Conjunto de treinamento\n",
        "X_train, X_, y_train, y_ = train_test_split(X, y, train_size=TRAIN_SIZE)"
      ],
      "metadata": {
        "id": "EJLnhhRe-ovy"
      },
      "execution_count": 267,
      "outputs": []
    },
    {
      "cell_type": "code",
      "source": [
        "print (f\"train: {len(X_train)} ({(len(X_train) / len(X)):.2f})\\n\"\n",
        "       f\"remaining: {len(X_)} ({(len(X_) / len(X)):.2f})\")"
      ],
      "metadata": {
        "colab": {
          "base_uri": "https://localhost:8080/"
        },
        "id": "s-bu4ci9-x2V",
        "outputId": "e1418ca7-58b2-4a54-8b5c-7cd4bf758acf"
      },
      "execution_count": 268,
      "outputs": [
        {
          "output_type": "stream",
          "name": "stdout",
          "text": [
            "train: 35 (0.70)\n",
            "remaining: 15 (0.30)\n"
          ]
        }
      ]
    },
    {
      "cell_type": "code",
      "source": [
        "# Conjunto de teste\n",
        "X_val, X_test, y_val, y_test = train_test_split(\n",
        "    X_, y_, train_size=0.5)"
      ],
      "metadata": {
        "id": "VdoalQ47_UbG"
      },
      "execution_count": 269,
      "outputs": []
    },
    {
      "cell_type": "code",
      "source": [
        "print(f\"train: {len(X_train)} ({len(X_train)/len(X):.2f})\\n\"\n",
        "      f\"val: {len(X_val)} ({len(X_val)/len(X):.2f})\\n\"\n",
        "      f\"test: {len(X_test)} ({len(X_test)/len(X):.2f})\")"
      ],
      "metadata": {
        "colab": {
          "base_uri": "https://localhost:8080/"
        },
        "id": "zjzbT71E_ai-",
        "outputId": "a527cb39-a41d-4755-9030-2529d62825b6"
      },
      "execution_count": 270,
      "outputs": [
        {
          "output_type": "stream",
          "name": "stdout",
          "text": [
            "train: 35 (0.70)\n",
            "val: 7 (0.14)\n",
            "test: 8 (0.16)\n"
          ]
        }
      ]
    },
    {
      "cell_type": "markdown",
      "source": [
        "## Padronizando os dados"
      ],
      "metadata": {
        "id": "jh8uInEb_esH"
      }
    },
    {
      "cell_type": "markdown",
      "source": [
        "Dessa vez, vamos utilizar o scikit-learn para [pré-processamento e padronização](https://scikit-learn.org/stable/modules/classes.html#module-sklearn.preprocessing)."
      ],
      "metadata": {
        "id": "kdkrpvX1_lU_"
      }
    },
    {
      "cell_type": "code",
      "source": [
        "from sklearn.preprocessing import StandardScaler"
      ],
      "metadata": {
        "id": "X9mm0sUr_zPp"
      },
      "execution_count": 271,
      "outputs": []
    },
    {
      "cell_type": "code",
      "source": [
        "# Padronizando os dados (média = 0, desvio-padrão = 1) usando os dados de treinamento\n",
        "X_scaler = StandardScaler().fit(X_train)\n",
        "y_scaler = StandardScaler().fit(y_train)"
      ],
      "metadata": {
        "id": "G7btwR2e__Nd"
      },
      "execution_count": 272,
      "outputs": []
    },
    {
      "cell_type": "code",
      "source": [
        "# Aplicando o scaler aos conjuntos de treinamento e teste\n",
        "X_train = X_scaler.transform(X_train)\n",
        "y_train = y_scaler.transform(y_train).ravel().reshape(-1, 1)\n",
        "X_val = X_scaler.transform(X_val)\n",
        "y_val = y_scaler.transform(y_val).ravel().reshape(-1, 1)\n",
        "X_test = X_scaler.transform(X_test)\n",
        "y_test = y_scaler.transform(y_test).ravel().reshape(-1, 1)"
      ],
      "metadata": {
        "id": "JJ8hSoFmAOEa"
      },
      "execution_count": 273,
      "outputs": []
    },
    {
      "cell_type": "code",
      "source": [
        "# Checando\n",
        "print(f\"mean: {np.mean(X_test, axis=0)[0]:.1f}, std: {np.std(X_test, axis=0)[0]:.1f}\")\n",
        "print(f\"mean: {np.mean(y_test, axis=0)[0]:.1f}, std: {np.std(y_test, axis=0)[0]:.1f}\")"
      ],
      "metadata": {
        "colab": {
          "base_uri": "https://localhost:8080/"
        },
        "id": "hlefl9S7A1UB",
        "outputId": "2cb79609-2835-4a59-a58c-b363cc3a9cbb"
      },
      "execution_count": 274,
      "outputs": [
        {
          "output_type": "stream",
          "name": "stdout",
          "text": [
            "mean: -0.5, std: 0.8\n",
            "mean: -0.5, std: 0.8\n"
          ]
        }
      ]
    },
    {
      "cell_type": "markdown",
      "source": [
        "## Pesos"
      ],
      "metadata": {
        "id": "RWTuyj8WBOSC"
      }
    },
    {
      "cell_type": "markdown",
      "source": [
        "Vamos usar os [Linear layers](https://pytorch.org/docs/stable/nn.html#linear-layers) do PyTorch. Esses layers serão nossos pesos (e viéses).\n",
        "\n",
        "$ z = XW $"
      ],
      "metadata": {
        "id": "L47zy4RFBW9P"
      }
    },
    {
      "cell_type": "code",
      "source": [
        "from torch import nn"
      ],
      "metadata": {
        "id": "c9PvAtu0BpEH"
      },
      "execution_count": 275,
      "outputs": []
    },
    {
      "cell_type": "code",
      "source": [
        "# Dados de entrada\n",
        "N = 3 # número de amostras\n",
        "x = torch.randn(N, INPUT_DIM)\n",
        "print(x.shape)\n",
        "print(x.numpy())"
      ],
      "metadata": {
        "colab": {
          "base_uri": "https://localhost:8080/"
        },
        "id": "kGc8XJGeBu8S",
        "outputId": "12bd1dc1-bc20-4f96-b6af-47f44818c479"
      },
      "execution_count": 276,
      "outputs": [
        {
          "output_type": "stream",
          "name": "stdout",
          "text": [
            "torch.Size([3, 1])\n",
            "[[ 0.04613046]\n",
            " [ 0.40240282]\n",
            " [-1.0115291 ]]\n"
          ]
        }
      ]
    },
    {
      "cell_type": "code",
      "source": [
        "# Pesos\n",
        "m = nn.Linear(INPUT_DIM, OUTPUT_DIM)\n",
        "print(m)\n",
        "print(f\"pesos ({m.weight.shape}): {m.weight[0][0]:.2f}\")\n",
        "print(f\"viés ({m.bias.shape}): {m.bias[0]:.2f}\")"
      ],
      "metadata": {
        "colab": {
          "base_uri": "https://localhost:8080/"
        },
        "id": "Yo1rZC0KCAwE",
        "outputId": "86e3897d-1c88-42cb-e412-86296b89ffcd"
      },
      "execution_count": 277,
      "outputs": [
        {
          "output_type": "stream",
          "name": "stdout",
          "text": [
            "Linear(in_features=1, out_features=1, bias=True)\n",
            "pesos (torch.Size([1, 1])): 0.35\n",
            "viés (torch.Size([1])): -0.34\n"
          ]
        }
      ]
    },
    {
      "cell_type": "code",
      "source": [
        "# Forward pass\n",
        "z = m(x)\n",
        "print(z.shape)\n",
        "print(z.detach().numpy())"
      ],
      "metadata": {
        "colab": {
          "base_uri": "https://localhost:8080/"
        },
        "id": "B2qquq42Cfc3",
        "outputId": "e97f10f3-91f5-43fd-ba4e-9d05d3bedc2e"
      },
      "execution_count": 278,
      "outputs": [
        {
          "output_type": "stream",
          "name": "stdout",
          "text": [
            "torch.Size([3, 1])\n",
            "[[-0.32104054]\n",
            " [-0.19719592]\n",
            " [-0.68869597]]\n"
          ]
        }
      ]
    },
    {
      "cell_type": "markdown",
      "source": [
        "## Modelo"
      ],
      "metadata": {
        "id": "hvlIay8ZCtJP"
      }
    },
    {
      "cell_type": "markdown",
      "source": [
        "Nosso objetivo é aprender um modelo linear $\\hat{y}$ que modela $y$ com os dados de $X$.\n",
        "\n",
        "$\\hat{y} = XW + b$, onde:\n",
        "\n",
        "* $\\hat{y}$ = * $\\hat{y}$ = previsões | $\\in \\mathbb{R}^{NX1}$ ($N$ é o número de amostras)\n",
        "* $X$ = dados de entrada | $\\in \\mathbb{R}^{NXD}$ ($D$ é o número de variáveis)\n",
        "* $W$ = pesos | $\\in \\mathbb{R}^{DX1}$\n",
        "* $b$ = viés | $\\in \\mathbb{R}^{1}$"
      ],
      "metadata": {
        "id": "W3GxlyDBC2vP"
      }
    },
    {
      "cell_type": "code",
      "source": [
        "from torchsummary import summary"
      ],
      "metadata": {
        "id": "59Ox7EeJC4Sy"
      },
      "execution_count": 279,
      "outputs": []
    },
    {
      "cell_type": "code",
      "source": [
        "class LinearRegression(nn.Module):\n",
        "  def __init__(self, input_dim, output_dim):\n",
        "    super(LinearRegression, self).__init__()\n",
        "    self.fc1 = nn.Linear(input_dim, output_dim)\n",
        "\n",
        "  def forward(self, x_in):\n",
        "    y_pred = self.fc1(x_in)\n",
        "    return y_pred"
      ],
      "metadata": {
        "id": "jAIlYIUyC7qL"
      },
      "execution_count": 280,
      "outputs": []
    },
    {
      "cell_type": "code",
      "source": [
        "# Instanciando o modelo\n",
        "model = LinearRegression(input_dim=INPUT_DIM, output_dim=OUTPUT_DIM)\n",
        "print(model.named_parameters)"
      ],
      "metadata": {
        "colab": {
          "base_uri": "https://localhost:8080/"
        },
        "id": "gbQXcT7UDSRd",
        "outputId": "7bce8b6f-beec-4631-b4f3-b94631f4fdb2"
      },
      "execution_count": 281,
      "outputs": [
        {
          "output_type": "stream",
          "name": "stdout",
          "text": [
            "<bound method Module.named_parameters of LinearRegression(\n",
            "  (fc1): Linear(in_features=1, out_features=1, bias=True)\n",
            ")>\n"
          ]
        }
      ]
    },
    {
      "cell_type": "markdown",
      "source": [
        "## Perda"
      ],
      "metadata": {
        "id": "V7nhUGcaDg-B"
      }
    },
    {
      "cell_type": "markdown",
      "source": [
        "Dessa vez vamos utilizar as [funções de perda](https://pytorch.org/docs/stable/nn.html#loss-functions) do PyTorch, especificamente a [`MSELoss`](https://pytorch.org/docs/stable/generated/torch.nn.MSELoss.html#torch.nn.MSELoss)."
      ],
      "metadata": {
        "id": "tTb4SUdsDjMm"
      }
    },
    {
      "cell_type": "code",
      "source": [
        "loss_fn = nn.MSELoss()\n",
        "y_pred = torch.Tensor([0, 0, 1, 1])\n",
        "y_true = torch.Tensor([1, 1, 1, 0])\n",
        "loss = loss_fn(y_pred, y_true)\n",
        "print(\"Loss: \", loss.numpy())"
      ],
      "metadata": {
        "colab": {
          "base_uri": "https://localhost:8080/"
        },
        "id": "Jq0GMiC0D2oG",
        "outputId": "717e2082-48d9-48d1-d7bb-f5c0bc4c40c9"
      },
      "execution_count": 282,
      "outputs": [
        {
          "output_type": "stream",
          "name": "stdout",
          "text": [
            "Loss:  0.75\n"
          ]
        }
      ]
    },
    {
      "cell_type": "markdown",
      "source": [
        "## Otimizador"
      ],
      "metadata": {
        "id": "3ENoHmfrEOV3"
      }
    },
    {
      "cell_type": "markdown",
      "source": [
        "Quando implementamos a regressão linear apenas com o NumPy, usamos o gradiente descendente em lote para atualizar nossos pesos. Mas existem muitos [algoritmos de otimização] (https://pytorch.org/docs/stable/optim.html) diferentes para escolher, dependendo da situação. No entando, o [otimizador ADAM](https://pytorch.org/docs/stable/optim.html#torch.optim.Adam) tornou-se um algoritmo padrão para a maioria dos casos."
      ],
      "metadata": {
        "id": "_dw0CrkJGTiW"
      }
    },
    {
      "cell_type": "code",
      "source": [
        "from torch.optim import Adam"
      ],
      "metadata": {
        "id": "0Y3rf8TNGyUa"
      },
      "execution_count": 283,
      "outputs": []
    },
    {
      "cell_type": "code",
      "source": [
        "# Otimizador\n",
        "optimizer = Adam(model.parameters(), lr=LEARNING_RATE)"
      ],
      "metadata": {
        "id": "sOqzLLo5JvAE"
      },
      "execution_count": 284,
      "outputs": []
    },
    {
      "cell_type": "markdown",
      "source": [
        "## Treinamento"
      ],
      "metadata": {
        "id": "c8VLgoomJ0R9"
      }
    },
    {
      "cell_type": "code",
      "source": [
        "# Convertendo os dados para tensores\n",
        "X_train = torch.Tensor(X_train)\n",
        "y_train = torch.Tensor(y_train)\n",
        "X_val = torch.Tensor(X_val)\n",
        "y_val = torch.Tensor(y_val)\n",
        "X_test = torch.Tensor(X_test)\n",
        "y_test = torch.Tensor(y_test)"
      ],
      "metadata": {
        "id": "B8trkn2MJ1jP"
      },
      "execution_count": 285,
      "outputs": []
    },
    {
      "cell_type": "code",
      "source": [
        "# Treinamento\n",
        "for epoch in range(NUM_EPOCHS):\n",
        "  # Forward pass\n",
        "  y_pred = model(X_train)\n",
        "\n",
        "  # Perda\n",
        "  loss = loss_fn(y_pred, y_train)\n",
        "\n",
        "  # Zero all gradientes\n",
        "  optimizer.zero_grad()\n",
        "\n",
        "  # Backward pass\n",
        "  loss.backward()\n",
        "\n",
        "  # Atualizando pesos\n",
        "  optimizer.step()\n",
        "\n",
        "  if epoch%20==0:\n",
        "    print(f\"Epoch: {epoch} | perda: {loss:.2f}\")"
      ],
      "metadata": {
        "colab": {
          "base_uri": "https://localhost:8080/"
        },
        "id": "PmWYk5b1KZqp",
        "outputId": "41c9df59-325e-4698-f7cb-7ebd66d181ba"
      },
      "execution_count": 286,
      "outputs": [
        {
          "output_type": "stream",
          "name": "stdout",
          "text": [
            "Epoch: 0 | perda: 0.22\n",
            "Epoch: 20 | perda: 0.03\n",
            "Epoch: 40 | perda: 0.02\n",
            "Epoch: 60 | perda: 0.02\n",
            "Epoch: 80 | perda: 0.02\n"
          ]
        }
      ]
    },
    {
      "cell_type": "markdown",
      "source": [
        "## Avaliação"
      ],
      "metadata": {
        "id": "AwWBBkA9K_rR"
      }
    },
    {
      "cell_type": "markdown",
      "source": [
        "Agora podemos avaliar o nosso modelo treinado."
      ],
      "metadata": {
        "id": "VERq1fWwLCee"
      }
    },
    {
      "cell_type": "code",
      "source": [
        "# Previsões\n",
        "pred_train = model(X_train)\n",
        "pred_test = model(X_test)"
      ],
      "metadata": {
        "id": "A1e8QmhkLGBr"
      },
      "execution_count": 287,
      "outputs": []
    },
    {
      "cell_type": "code",
      "source": [
        "# Performance\n",
        "train_error = loss_fn(pred_train, y_train)\n",
        "test_error = loss_fn(pred_test, y_test)\n",
        "print(f\"train_error: {train_error:.2f}\")\n",
        "print(f\"test_error: {test_error:.2f}\")"
      ],
      "metadata": {
        "colab": {
          "base_uri": "https://localhost:8080/"
        },
        "id": "NiP1G-eGLMMu",
        "outputId": "8fcf7fb7-0d78-49eb-a3ba-e66d2e7fa5d1"
      },
      "execution_count": 288,
      "outputs": [
        {
          "output_type": "stream",
          "name": "stdout",
          "text": [
            "train_error: 0.02\n",
            "test_error: 0.01\n"
          ]
        }
      ]
    },
    {
      "cell_type": "markdown",
      "source": [
        "Como temos apenas uma variável, é fácil inespecionar visualmente o modelo."
      ],
      "metadata": {
        "id": "BYXO8nIJLcFN"
      }
    },
    {
      "cell_type": "code",
      "source": [
        "# Figure size\n",
        "plt.figure(figsize=(15,5))\n",
        "\n",
        "# Plotando dados de treinamento\n",
        "plt.subplot(1, 2, 1)\n",
        "plt.title(\"Dados de treinamento\")\n",
        "plt.scatter(X_train, y_train, label=\"y_train\")\n",
        "plt.plot(X_train, pred_train.detach().numpy(), color=\"red\", linewidth=1, linestyle=\"-\", label=\"model\")\n",
        "\n",
        "# Plotando dados de teste\n",
        "plt.subplot(1, 2, 2)\n",
        "plt.title(\"Dados de teste\")\n",
        "plt.scatter(X_test, y_test, label=\"y_test\")\n",
        "plt.plot(X_test, pred_test.detach().numpy(), color=\"red\", linewidth=1, linestyle=\"-\", label=\"model\")\n",
        "\n",
        "# Mostrando gráficos\n",
        "plt.show()"
      ],
      "metadata": {
        "colab": {
          "base_uri": "https://localhost:8080/",
          "height": 326
        },
        "id": "gC1diRWKLhX4",
        "outputId": "5b21133b-32b6-404a-c974-84bfae9bfb46"
      },
      "execution_count": 289,
      "outputs": [
        {
          "output_type": "display_data",
          "data": {
            "text/plain": [
              "<Figure size 1080x360 with 2 Axes>"
            ],
            "image/png": "[encoded data removed]"
          },
          "metadata": {
            "needs_background": "light"
          }
        }
      ]
    },
    {
      "cell_type": "markdown",
      "source": [
        "## Inferência"
      ],
      "metadata": {
        "id": "IFsoyLAVGPCh"
      }
    },
    {
      "cell_type": "markdown",
      "source": [
        "Depois de treinar nosso modelo, podemos utilizá-lo para previsão em novos dados."
      ],
      "metadata": {
        "id": "qxylfKXGGWeT"
      }
    },
    {
      "cell_type": "code",
      "source": [
        "# Coloque os seus inputs\n",
        "sample_indices = [10, 15, 25]\n",
        "X_infer = np.array(sample_indices, dtype=np.float32)\n",
        "X_infer = torch.Tensor(X_scaler.transform(X_infer.reshape(-1, 1)))"
      ],
      "metadata": {
        "id": "eSrtlVUDGlQn"
      },
      "execution_count": 290,
      "outputs": []
    },
    {
      "cell_type": "markdown",
      "source": [
        "Lembre-se de que precisamos \"despadronizar\" nossas previsões.\n",
        "\n",
        "$ \\hat{y}_{scaled} = \\frac{\\hat{y} - \\mu_{\\hat{y}}}{\\sigma_{\\hat{y}}} $\n",
        "\n",
        "$ \\hat{y} = \\hat{y}_{scaled} * \\sigma_{\\hat{y}} + \\mu_{\\hat{y}} $"
      ],
      "metadata": {
        "id": "fix8PxhpG05Y"
      }
    },
    {
      "cell_type": "code",
      "source": [
        "# \"Despadronizando\" as previsões\n",
        "pred_infer = model(X_infer).detach().numpy() * np.sqrt(y_scaler.var_) + y_scaler.mean_\n",
        "for i, index in enumerate(sample_indices):\n",
        "    print (f\"{df.iloc[index]['y']:.2f} (actual) → {pred_infer[i][0]:.2f} (predicted)\")"
      ],
      "metadata": {
        "colab": {
          "base_uri": "https://localhost:8080/"
        },
        "id": "jroAl0aDG9bh",
        "outputId": "6d00997a-7c12-4dd4-ec6b-91179aeaf405"
      },
      "execution_count": 291,
      "outputs": [
        {
          "output_type": "stream",
          "name": "stdout",
          "text": [
            "35.73 (actual) → 41.86 (predicted)\n",
            "59.34 (actual) → 59.10 (predicted)\n",
            "97.04 (actual) → 93.58 (predicted)\n"
          ]
        }
      ]
    },
    {
      "cell_type": "markdown",
      "source": [
        "## Interpretabilidade\n",
        "\n"
      ],
      "metadata": {
        "id": "8AKoc60SH2rR"
      }
    },
    {
      "cell_type": "markdown",
      "source": [
        "A regressão linear tem a grande vantagem de ser altamente interpretável. Cada variável tem um coeficiente que significa sua importância/impacto na variável de saída y. Podemos interpretar nossos coeficientes como o seguinte: ao aumentar X em 1 unidade, aumentamos y em W unidades."
      ],
      "metadata": {
        "id": "NEVY8UVqH8kd"
      }
    },
    {
      "cell_type": "code",
      "source": [
        "# \"Despadronizando\" os coeficientes\n",
        "W = model.fc1.weight.data.numpy()[0][0]\n",
        "b = model.fc1.bias.data.numpy()[0]\n",
        "W_unscaled = W * (y_scaler.scale_/X_scaler.scale_)\n",
        "b_unscaled = b * y_scaler.scale_ + y_scaler.mean_ - np.sum(W_unscaled*X_scaler.mean_)\n",
        "print(\"[actual] y = 3.5X + noise\")\n",
        "print(f\"[model] y_hat = {W_unscaled[0]:.1f}X + {b_unscaled[0]:.1f}\")"
      ],
      "metadata": {
        "colab": {
          "base_uri": "https://localhost:8080/"
        },
        "id": "m9lj_3oTIaGM",
        "outputId": "cdba3208-b078-4c12-a997-17e820e637db"
      },
      "execution_count": 292,
      "outputs": [
        {
          "output_type": "stream",
          "name": "stdout",
          "text": [
            "[actual] y = 3.5X + noise\n",
            "[model] y_hat = 3.4X + 7.4\n"
          ]
        }
      ]
    },
    {
      "cell_type": "markdown",
      "source": [
        "# Regularização"
      ],
      "metadata": {
        "id": "uloZZ0dpJKMa"
      }
    },
    {
      "cell_type": "markdown",
      "source": [
        "A regularização ajuda a diminuir o super-ajuste (overfitting). Abaixo temos a regularização `L2` (regressão de Ridge). Existem diversas formas de regularização. Com a regularização `L2`, nós estamos penalizando os pesos com grandes magnitude, reduzindo-os. Ter certos pesos com altas magnitudes levará a um viés preferencial com as entradas e queremos que o modelo funcione com todas as entradas, não apenas com algumas selecionadas. Existe também a regularização `L1` (regressão de Lasso), que serve para criar modelos esparsos, onde alguns coeficientes são zerados. Existem também a regularização elástica, que combina as penalidades `L1` e `L2`."
      ],
      "metadata": {
        "id": "09dnn75vJL-a"
      }
    },
    {
      "cell_type": "markdown",
      "source": [
        "> A regularização não é usada apenas na regressão linear. Podemos utilizá-la para regularizar os pesos de quaisquer modelos, incluindo os que vamos aprender em aulas futuras.\n",
        "\n",
        "$ J(\\theta) = \\frac{1}{2}\\sum_{i}(X_iW - y_i)^2 + \\frac{\\lambda}{2}W^TW$\n",
        "\n",
        "$ \\frac{\\partial{J}}{\\partial{W}}  = X (\\hat{y} - y) + \\lambda W $\n",
        "\n",
        "$W = W- \\alpha\\frac{\\partial{J}}{\\partial{W}}$, onde:\n",
        "\n",
        "* $\\lambda$ é o coeficiente de regularização\n",
        "* $\\alpha$ é a taxa de aprendizado"
      ],
      "metadata": {
        "id": "LoL5BT-1KUVo"
      }
    },
    {
      "cell_type": "markdown",
      "source": [
        "No PyTorch, podemos adicionar a regularização L2 ajustando o nosso otimizador. O otimizador Adam tem um parâmetro `weight_decay` que controla a penalidade L2."
      ],
      "metadata": {
        "id": "aTEXptwKK5iK"
      }
    },
    {
      "cell_type": "code",
      "source": [
        "L2_LAMBDA = 1e-2"
      ],
      "metadata": {
        "id": "VYNcBIpGLE1k"
      },
      "execution_count": 293,
      "outputs": []
    },
    {
      "cell_type": "code",
      "source": [
        "# Instanciando o modelo\n",
        "model = LinearRegression(input_dim=INPUT_DIM, output_dim=OUTPUT_DIM)"
      ],
      "metadata": {
        "id": "36-ZdBl8LH6d"
      },
      "execution_count": 294,
      "outputs": []
    },
    {
      "cell_type": "code",
      "source": [
        "# Otimizador (com regularização L2)\n",
        "optimizer = Adam(model.parameters(), lr=LEARNING_RATE, weight_decay=L2_LAMBDA)"
      ],
      "metadata": {
        "id": "z1IL57SSLQRp"
      },
      "execution_count": 295,
      "outputs": []
    },
    {
      "cell_type": "code",
      "source": [
        "# Treinamento\n",
        "for epoch in range(NUM_EPOCHS):\n",
        "  # Forward pass\n",
        "  y_pred = model(X_train)\n",
        "\n",
        "  # Loss\n",
        "  loss = loss_fn(y_pred, y_train)\n",
        "\n",
        "  # Zero all gradientes\n",
        "  optimizer.zero_grad()\n",
        "\n",
        "  # Backward pass\n",
        "  loss.backward()\n",
        "\n",
        "  # Atualizando pesos\n",
        "  optimizer.step()\n",
        "\n",
        "  if epoch%20==0:\n",
        "    print(f\"Epoch: {epoch} | loss: {loss:.2f}\")"
      ],
      "metadata": {
        "colab": {
          "base_uri": "https://localhost:8080/"
        },
        "id": "V-IfodLkLZ1X",
        "outputId": "182b397c-5757-43be-abcd-8cf687215742"
      },
      "execution_count": 296,
      "outputs": [
        {
          "output_type": "stream",
          "name": "stdout",
          "text": [
            "Epoch: 0 | loss: 0.63\n",
            "Epoch: 20 | loss: 0.04\n",
            "Epoch: 40 | loss: 0.02\n",
            "Epoch: 60 | loss: 0.02\n",
            "Epoch: 80 | loss: 0.02\n"
          ]
        }
      ]
    },
    {
      "cell_type": "code",
      "source": [
        "# Previsões\n",
        "pred_train = model(X_train)\n",
        "pred_test = model(X_test)"
      ],
      "metadata": {
        "id": "kxEze8U2L8iG"
      },
      "execution_count": 297,
      "outputs": []
    },
    {
      "cell_type": "code",
      "source": [
        "# Performance\n",
        "train_error = loss_fn(pred_train, y_train)\n",
        "test_error = loss_fn(pred_test, y_test)\n",
        "print(f\"train_error: {train_error:.2f}\")\n",
        "print(f\"test_error: {test_error:.2f}\")"
      ],
      "metadata": {
        "colab": {
          "base_uri": "https://localhost:8080/"
        },
        "id": "qsBEGJjdMBFb",
        "outputId": "60a79ce0-655d-4e7d-c63b-43af34afcd6e"
      },
      "execution_count": 298,
      "outputs": [
        {
          "output_type": "stream",
          "name": "stdout",
          "text": [
            "train_error: 0.02\n",
            "test_error: 0.01\n"
          ]
        }
      ]
    },
    {
      "cell_type": "markdown",
      "source": [
        "A regularização não fez diferença na performance desse modelo específico, porque nosso dados são gerados de uma equação linear perfeita mas, para dados reais, a regularização pode ajudar nosso modelo a generalizar bem."
      ],
      "metadata": {
        "id": "dCe0GtpsMTW5"
      }
    }
  ]
}